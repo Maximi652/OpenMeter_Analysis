{
 "cells": [
  {
   "cell_type": "code",
   "execution_count": null,
   "metadata": {},
   "outputs": [],
   "source": [
    "import pandas as pd\n",
    "import glob\n",
    "\n",
    "csv_files = glob.glob(r'C:\\Users\\jonas\\Desktop\\Studium\\Master\\SS 2025\\Anwendungsfelder Business Analytics\\Daten\\*.csv')\n",
    "\n",
    "# Liste für alle DataFrames\n",
    "all_dataframes = []\n",
    "\n",
    "# Spalten, die wir extrahieren möchten\n",
    "general_info_keys = [\n",
    "    'measures_from', 'measures_to', 'measurement_category',\n",
    "    'measurement_unit', 'measurement_type', 'measurement_value_type',\n",
    "    'measurement_frequency', 'location_id', 'category', 'usage',\n",
    "    'usage_detail', 'country', 'federal_state', 'city', 'post_code',\n",
    "    'area', 'construction_year'\n",
    "]\n",
    "\n",
    "for file in csv_files:\n",
    "    df = pd.read_csv(file, header=None, names=[\"field\", \"value\"])\n",
    "\n",
    "    # Allgemeine Informationen extrahieren\n",
    "    general_info_section = df.iloc[1:18].dropna()\n",
    "    general_info = {}\n",
    "    for key in general_info_keys:\n",
    "        match = general_info_section[general_info_section['field'] == key]\n",
    "        if not match.empty:\n",
    "            general_info[key] = match['value'].values[0]\n",
    "        else:\n",
    "            general_info[key] = None  # falls fehlend\n",
    "\n",
    "    # Messdaten einlesen\n",
    "    measurements = df.iloc[22:].dropna()\n",
    "    measurements.columns = ['Zeitstempel', 'Messwert']\n",
    "    measurements = measurements.reset_index(drop=True)\n",
    "\n",
    "    # Allgemeine Infos an jede Zeile anfügen\n",
    "    for key, value in general_info.items():\n",
    "        measurements[key] = value\n",
    "\n",
    "    all_dataframes.append(measurements)\n",
    "\n",
    "# zusammenfügen\n",
    "final_df = pd.concat(all_dataframes, ignore_index=True)"
   ]
  },
  {
   "cell_type": "code",
   "execution_count": 64,
   "metadata": {},
   "outputs": [
    {
     "name": "stdout",
     "output_type": "stream",
     "text": [
      "Speicher vor Optimierung: 4765.96 MB\n",
      "Speicher nach Optimierung: 185.95 MB\n",
      "Reduziert um: 4580.02 MB\n"
     ]
    }
   ],
   "source": [
    "def optimize_object_columns(df, convert_numeric=False):\n",
    "    initial_memory = df.memory_usage(deep=True).sum() / 1024 ** 2\n",
    "\n",
    "    for col in df.select_dtypes(include=['object']).columns:\n",
    "        num_unique_values = df[col].nunique()\n",
    "        num_total_values = len(df[col])\n",
    "        \n",
    "        # Wenn viele Wiederholungen, konvertiere zu category\n",
    "        if num_unique_values / num_total_values < 0.5:\n",
    "            df[col] = df[col].astype('category')\n",
    "        elif convert_numeric:\n",
    "            # Versuche Konvertierung zu float/int (z. B. \"123\" → 123)\n",
    "            try:\n",
    "                df[col] = pd.to_numeric(df[col])\n",
    "            except (ValueError, TypeError):\n",
    "                df[col] = df[col].astype('string')\n",
    "        else:\n",
    "            df[col] = df[col].astype('string')\n",
    "\n",
    "    optimized_memory = df.memory_usage(deep=True).sum() / 1024 ** 2\n",
    "    print(f\"Speicher vor Optimierung: {initial_memory:.2f} MB\")\n",
    "    print(f\"Speicher nach Optimierung: {optimized_memory:.2f} MB\")\n",
    "    print(f\"Reduziert um: {(initial_memory - optimized_memory):.2f} MB\")\n",
    "\n",
    "    return df\n",
    "\n",
    "optimized_df = optimize_object_columns(final_df, convert_numeric=True)"
   ]
  },
  {
   "cell_type": "code",
   "execution_count": 65,
   "metadata": {},
   "outputs": [],
   "source": [
    "optimized_df.to_csv(\"AlleMessdaten2000_2024.csv\")"
   ]
  }
 ],
 "metadata": {
  "kernelspec": {
   "display_name": "Python 3",
   "language": "python",
   "name": "python3"
  },
  "language_info": {
   "codemirror_mode": {
    "name": "ipython",
    "version": 3
   },
   "file_extension": ".py",
   "mimetype": "text/x-python",
   "name": "python",
   "nbconvert_exporter": "python",
   "pygments_lexer": "ipython3",
   "version": "3.13.2"
  }
 },
 "nbformat": 4,
 "nbformat_minor": 2
}
