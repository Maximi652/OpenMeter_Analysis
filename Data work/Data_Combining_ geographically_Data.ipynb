{
 "cells": [
  {
   "cell_type": "code",
   "execution_count": 1,
   "id": "72833e3c",
   "metadata": {},
   "outputs": [],
   "source": [
    "import pandas as pd\n",
    "import numpy as np"
   ]
  },
  {
   "cell_type": "code",
   "execution_count": 2,
   "id": "a83311bd",
   "metadata": {},
   "outputs": [
    {
     "name": "stderr",
     "output_type": "stream",
     "text": [
      "/var/folders/c0/bb24fmsx45vgrsz0nl893g940000gn/T/ipykernel_79819/3172233717.py:1: DtypeWarning: Columns (14) have mixed types. Specify dtype option on import or set low_memory=False.\n",
      "  df = pd.read_csv('/Users/maxi/Downloads/EnrichedSensorData.csv')\n"
     ]
    }
   ],
   "source": [
    "df = pd.read_csv('/Users/maxi/Downloads/EnrichedSensorData.csv')\n",
    "df_Kreis_code = pd.read_csv('/Users/maxi/Downloads/nrw-postleitzahlen.csv', sep=';')\n",
    "df_Geo = pd.read_csv('/Users/maxi/Downloads/Tabelle Abfrage1.csv', sep=';')"
   ]
  },
  {
   "cell_type": "code",
   "execution_count": 3,
   "id": "43d0f950",
   "metadata": {},
   "outputs": [],
   "source": [
    "df['post_code'] = df['post_code'].astype(int).astype(str).str.zfill(5)"
   ]
  }
 ],
 "metadata": {
  "kernelspec": {
   "display_name": "Python 3",
   "language": "python",
   "name": "python3"
  },
  "language_info": {
   "codemirror_mode": {
    "name": "ipython",
    "version": 3
   },
   "file_extension": ".py",
   "mimetype": "text/x-python",
   "name": "python",
   "nbconvert_exporter": "python",
   "pygments_lexer": "ipython3",
   "version": "3.11.8"
  }
 },
 "nbformat": 4,
 "nbformat_minor": 5
}
