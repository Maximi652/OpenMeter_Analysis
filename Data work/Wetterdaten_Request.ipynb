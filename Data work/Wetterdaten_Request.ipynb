{
 "cells": [
  {
   "cell_type": "code",
   "execution_count": 31,
   "id": "4b081dc6",
   "metadata": {},
   "outputs": [
    {
     "name": "stdout",
     "output_type": "stream",
     "text": [
      "  station_id resolution          dataset          parameter  \\\n",
      "0      00003      daily  climate_summary  cloud_cover_total   \n",
      "1      00003      daily  climate_summary  cloud_cover_total   \n",
      "2      00003      daily  climate_summary  cloud_cover_total   \n",
      "3      00003      daily  climate_summary  cloud_cover_total   \n",
      "4      00003      daily  climate_summary  cloud_cover_total   \n",
      "\n",
      "                       date   value  quality  \n",
      "0 2000-01-01 00:00:00+00:00  0.8750     10.0  \n",
      "1 2000-01-02 00:00:00+00:00  0.9125     10.0  \n",
      "2 2000-01-03 00:00:00+00:00  0.8375     10.0  \n",
      "3 2000-01-04 00:00:00+00:00  0.9625     10.0  \n",
      "4 2000-01-05 00:00:00+00:00  0.4125     10.0  \n"
     ]
    }
   ],
   "source": [
    "from wetterdienst.provider.dwd.observation import DwdObservationRequest\n",
    "from wetterdienst import Settings\n",
    "from datetime import datetime\n",
    "\n",
    "# Zeitraum definieren\n",
    "start_date = datetime(2000, 1, 1)\n",
    "end_date = datetime(2024, 12, 31)\n",
    "\n",
    "settings = Settings(  # default\n",
    "  ts_shape=\"long\",  # tidy data\n",
    "  ts_humanize=True,  # humanized parameters\n",
    "  ts_convert_units=True  # convert values to SI units\n",
    ")\n",
    "\n",
    "# Anfrage konfigurieren\n",
    "request = DwdObservationRequest(\n",
    "    parameters=[(\"daily\", \"climate_summary\")],\n",
    "    start_date=datetime(2000, 1, 1),\n",
    "    end_date=datetime(2024, 12, 31),\n",
    "    settings=settings\n",
    ").all()\n",
    "\n",
    "# Beste verfügbare Station auswählen (z. B. Rang 1)\n",
    "stations = request.df\n",
    "stations.head()\n",
    "\n",
    "# Daten abrufen\n",
    "values = request.values.all().df\n",
    "values.head()\n",
    "\n",
    "# to get a pandas DataFrame and e.g. create some matplotlib plots    \n",
    "df = values.to_pandas()\n",
    "\n",
    "# Optional: Daten anzeigen\n",
    "print(df.head())"
   ]
  },
  {
   "cell_type": "code",
   "execution_count": 33,
   "id": "2304e9c5",
   "metadata": {},
   "outputs": [],
   "source": [
    "df_filtered = df.loc[df[\"parameter\"].isin(['cloud_cover_total', 'humidity', 'precipitation_form', \n",
    "                                  'precipitation_height', 'snow_depth', 'sunshine_duration', \n",
    "                                  'temperature_air_mean_2m','wind_gust_max', 'wind_speed']), :]"
   ]
  },
  {
   "cell_type": "code",
   "execution_count": 34,
   "id": "89c7f331",
   "metadata": {},
   "outputs": [],
   "source": [
    "df_stations = stations.to_pandas()"
   ]
  },
  {
   "cell_type": "code",
   "execution_count": 36,
   "id": "42a0e807",
   "metadata": {},
   "outputs": [],
   "source": [
    "df_stations = df_stations.set_index(df_stations[\"station_id\"])"
   ]
  },
  {
   "cell_type": "code",
   "execution_count": 37,
   "id": "c9a72aa3",
   "metadata": {},
   "outputs": [
    {
     "name": "stderr",
     "output_type": "stream",
     "text": [
      "C:\\Users\\jonas\\AppData\\Local\\Temp\\ipykernel_10580\\3279389833.py:1: SettingWithCopyWarning: \n",
      "A value is trying to be set on a copy of a slice from a DataFrame.\n",
      "Try using .loc[row_indexer,col_indexer] = value instead\n",
      "\n",
      "See the caveats in the documentation: https://pandas.pydata.org/pandas-docs/stable/user_guide/indexing.html#returning-a-view-versus-a-copy\n",
      "  df_filtered[\"state\"] = df_filtered[\"station_id\"].map(df_stations[\"state\"])\n",
      "C:\\Users\\jonas\\AppData\\Local\\Temp\\ipykernel_10580\\3279389833.py:2: SettingWithCopyWarning: \n",
      "A value is trying to be set on a copy of a slice from a DataFrame.\n",
      "Try using .loc[row_indexer,col_indexer] = value instead\n",
      "\n",
      "See the caveats in the documentation: https://pandas.pydata.org/pandas-docs/stable/user_guide/indexing.html#returning-a-view-versus-a-copy\n",
      "  df_filtered[\"name\"] = df_filtered[\"station_id\"].map(df_stations[\"name\"])\n"
     ]
    }
   ],
   "source": [
    "df_filtered[\"state\"] = df_filtered[\"station_id\"].map(df_stations[\"state\"])\n",
    "df_filtered[\"name\"] = df_filtered[\"station_id\"].map(df_stations[\"name\"])"
   ]
  },
  {
   "cell_type": "code",
   "execution_count": null,
   "id": "97949ddc",
   "metadata": {},
   "outputs": [
    {
     "name": "stdout",
     "output_type": "stream",
     "text": [
      "                     state station_id                         name  \\\n",
      "0        Baden-Württemberg      00011  Donaueschingen (Landeplatz)   \n",
      "1                   Bayern      00073        Aldersbach-Kramersepp   \n",
      "2                   Berlin      00399        Berlin-Alexanderplatz   \n",
      "3              Brandenburg      00164                   Angermünde   \n",
      "4                   Bremen      00691                       Bremen   \n",
      "5                  Hamburg      01975          Hamburg-Fuhlsbüttel   \n",
      "6                   Hessen      00090                      Alsfeld   \n",
      "7   Mecklenburg-Vorpommern      00129                 Altentreptow   \n",
      "8            Niedersachsen      00044                 Großenkneten   \n",
      "9      Nordrhein-Westfalen      00003                       Aachen   \n",
      "10         Rheinland-Pfalz      00150                        Alzey   \n",
      "11                Saarland      00460                        Berus   \n",
      "12                 Sachsen      00222                          Aue   \n",
      "13          Sachsen-Anhalt      00445        Bernburg/Saale (Nord)   \n",
      "14      Schleswig-Holstein      00052         Ahrensburg-Wulfsdorf   \n",
      "15               Thüringen      00198                       Artern   \n",
      "\n",
      "                        date  \n",
      "0  2000-01-01 00:00:00+00:00  \n",
      "1  2000-01-01 00:00:00+00:00  \n",
      "2  2000-01-01 00:00:00+00:00  \n",
      "3  2000-01-01 00:00:00+00:00  \n",
      "4  2000-01-01 00:00:00+00:00  \n",
      "5  2000-01-01 00:00:00+00:00  \n",
      "6  2000-01-01 00:00:00+00:00  \n",
      "7  2000-01-01 00:00:00+00:00  \n",
      "8  2000-01-01 00:00:00+00:00  \n",
      "9  2000-01-01 00:00:00+00:00  \n",
      "10 2000-01-01 00:00:00+00:00  \n",
      "11 2000-01-01 00:00:00+00:00  \n",
      "12 2000-01-01 00:00:00+00:00  \n",
      "13 2000-01-01 00:00:00+00:00  \n",
      "14 2000-01-01 00:00:00+00:00  \n",
      "15 2000-01-01 00:00:00+00:00  \n"
     ]
    }
   ],
   "source": [
    "# Pro Bundesland: Station mit längster Zeitreihe\n",
    "best_stations = (\n",
    "    df_filtered.sort_values(by=[\"state\", \"date\"])\n",
    "    .drop_duplicates(subset=[\"state\"], keep=\"first\")\n",
    "    .reset_index(drop=True)\n",
    ")\n",
    "\n",
    "# Übersicht anzeigen\n",
    "print(best_stations[[\"state\", \"station_id\", \"name\", \"date\"]])"
   ]
  },
  {
   "cell_type": "code",
   "execution_count": 48,
   "id": "b595fd99",
   "metadata": {},
   "outputs": [],
   "source": [
    "df_filtered = df_filtered.loc[df_filtered[\"station_id\"].isin(['00011',\n",
    " '00073',\n",
    " '00399',\n",
    " '00164',\n",
    " '00691',\n",
    " '01975',\n",
    " '00090',\n",
    " '00129',\n",
    " '00044',\n",
    " '00003',\n",
    " '00150',\n",
    " '00460',\n",
    " '00222',\n",
    " '00445',\n",
    " '00052',\n",
    " '00198']), :]"
   ]
  },
  {
   "cell_type": "code",
   "execution_count": 49,
   "id": "9bf8ed5c",
   "metadata": {},
   "outputs": [],
   "source": [
    "df_filtered.to_csv(\"Wetterdaten.csv\", index=False)"
   ]
  }
 ],
 "metadata": {
  "kernelspec": {
   "display_name": "Python 3",
   "language": "python",
   "name": "python3"
  },
  "language_info": {
   "codemirror_mode": {
    "name": "ipython",
    "version": 3
   },
   "file_extension": ".py",
   "mimetype": "text/x-python",
   "name": "python",
   "nbconvert_exporter": "python",
   "pygments_lexer": "ipython3",
   "version": "3.13.2"
  }
 },
 "nbformat": 4,
 "nbformat_minor": 5
}
