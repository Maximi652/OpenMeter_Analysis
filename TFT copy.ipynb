{
 "cells": [
  {
   "cell_type": "code",
   "execution_count": 1,
   "id": "c6b8e27e",
   "metadata": {},
   "outputs": [
    {
     "name": "stderr",
     "output_type": "stream",
     "text": [
      "C:\\Users\\maximilian.vanliende\\AppData\\Local\\Temp\\ipykernel_10052\\236531061.py:16: DtypeWarning: Columns (19,20,39) have mixed types. Specify dtype option on import or set low_memory=False.\n",
      "  train = pd.read_csv(DATA_PATH, parse_dates=[\"Zeitstempel\"])\n",
      "C:\\Users\\maximilian.vanliende\\AppData\\Local\\Temp\\ipykernel_10052\\236531061.py:17: DtypeWarning: Columns (19,20,39) have mixed types. Specify dtype option on import or set low_memory=False.\n",
      "  test  = pd.read_csv(TEST_PATH, parse_dates=[\"Zeitstempel\"])\n"
     ]
    }
   ],
   "source": [
    "import numpy as np\n",
    "import pandas as pd\n",
    "import lightning.pytorch as pl\n",
    "from lightning.pytorch.callbacks import EarlyStopping, LearningRateMonitor\n",
    "from lightning.pytorch.loggers import CSVLogger\n",
    "import torch\n",
    "\n",
    "from pytorch_forecasting import Baseline, TemporalFusionTransformer, TimeSeriesDataSet\n",
    "from pytorch_forecasting.data import GroupNormalizer\n",
    "from pytorch_forecasting.metrics import SMAPE, PoissonLoss, QuantileLoss\n",
    "from pytorch_forecasting.models.temporal_fusion_transformer.tuning import optimize_hyperparameters\n",
    "\n",
    "DATA_PATH = \"c:\\\\Users\\\\maximilian.vanliende\\\\Downloads\\\\train_data.csv\"\n",
    "TEST_PATH = \"C:\\\\Users\\\\maximilian.vanliende\\\\Downloads\\\\test_data.csv\"\n",
    "\n",
    "train = pd.read_csv(DATA_PATH, parse_dates=[\"Zeitstempel\"])\n",
    "test  = pd.read_csv(TEST_PATH, parse_dates=[\"Zeitstempel\"])"
   ]
  },
  {
   "cell_type": "code",
   "execution_count": 2,
   "id": "ad3fe587",
   "metadata": {},
   "outputs": [],
   "source": [
    "df = pd.concat([train.assign(split=\"train\"), test.assign(split=\"test\")], ignore_index=True)\n",
    "\n",
    "df[\"meter_id\"] = df[\"location_id\"]\n",
    "\n",
    "for part in (\"month\", \"weekday\", \"hour\"):\n",
    "    df[part] = getattr(df[\"Zeitstempel\"].dt, part).astype(str)\n",
    "\n",
    "df[\"is_holiday\"] = df[\"Ferientyp\"].notna().astype(str)\n",
    "df[\"Ferientyp\"]  = df[\"Ferientyp\"].fillna(\"None\").astype(str)\n",
    "df[\"post_code\"]  = df[\"post_code\"].astype(str)\n",
    "df[\"city\"]       = df[\"city\"].astype(str)\n",
    "\n",
    "cat_cols = [\"city\", \"post_code\", \"Ferientyp\", \"month\", \"weekday\", \"hour\", \"is_holiday\", \"Feiertag\"]\n",
    "for c in cat_cols:\n",
    "    df[c] = pd.Categorical(df[c])               # gemeinsamer Kategorie-Pool\n",
    "\n",
    "static_categoricals            = [\"city\", \"post_code\"]\n",
    "time_varying_known_categoricals = [\"is_holiday\", \"month\", \"weekday\", \"hour\"]\n",
    "time_varying_known_reals        = [\"time_idx\", \"cloud_cover_total\", \"humidity\"]\n",
    "\n",
    "# 2)  Beim Category-Pool Ferientyp ebenfalls weglassen\n",
    "cat_cols = [\"city\", \"post_code\", \"month\", \"weekday\", \"hour\", \"is_holiday\", \"Wochentag_Name\", \"Bundesland\", \"Kreis name\", \"Ferientyp\"]\n",
    "for c in cat_cols:\n",
    "    df[c] = pd.Categorical(df[c])\n",
    "\n",
    "static_reals = [\n",
    "    \"area\", \"Bruttoverdienst\", \"Durchschnittsalter der Bevölkerung\",\n",
    "    \"Erwerbstätige\", \"Kaufkraft\", \"Medianeinkommen\",\n",
    "    \"Neubauwohnungen in Ein- und Zweifamilienhäusern\",\n",
    "    \"Neubauwohnungen je Einwohner\", \"Schuldnerquote\",\n",
    "    \"Siedlungsdichte in km²\"\n",
    "]\n",
    "\n",
    "# fehlende numerische Werte füllen\n",
    "real_fill = [\"cloud_cover_total\", \"humidity\"] + static_reals\n",
    "for col in real_fill:\n",
    "    if col in df.columns:\n",
    "        df[col] = (\n",
    "            df[col]\n",
    "            .ffill()\n",
    "            .bfill()\n",
    "            .fillna(df[col].median())\n",
    "        )\n",
    "\n",
    "df = df.drop(columns=[\"Unnamed: 0\", \"Kreis code\", \"Kreis name\"]).drop_duplicates()\n",
    "\n",
    "cat_cols = [\n",
    "    'location_id', 'city', 'post_code', 'Datum_Messung', 'Wochentag_Name',\n",
    "    'Feiertag', 'Bundesland', 'Ferientyp', 'split', 'meter_id',\n",
    "    'month', 'weekday', 'hour', 'is_holiday', 'dummy_group'\n",
    "]\n",
    "\n",
    "group_cols = ['location_id', 'Zeitstempel']\n",
    "\n",
    "# Numerische Spalten (mean), außer group_cols\n",
    "num_cols = df.select_dtypes(include='number').columns.difference(group_cols)\n",
    "\n",
    "# Aggregations-Logik\n",
    "agg_dict = {col: 'first' for col in cat_cols if col in df.columns}\n",
    "agg_dict.update({col: 'mean' for col in num_cols if col in df.columns})\n",
    "\n",
    "# Gruppierung durchführen\n",
    "df = (\n",
    "    df.groupby(group_cols, as_index=False)\n",
    "      .agg(agg_dict)\n",
    ")\n",
    "\n",
    "\n",
    "unique_times = pd.Series(df[\"Zeitstempel\"].unique()).sort_values().reset_index(drop=True)\n",
    "time_map = {time: idx for idx, time in enumerate(unique_times)}\n",
    "df[\"time_idx\"] = df[\"Zeitstempel\"].map(time_map)\n",
    "\n",
    "train = df[df.split == \"train\"].drop(columns=\"split\")\n",
    "test  = df[df.split == \"test\"].drop(columns=\"split\")"
   ]
  },
  {
   "cell_type": "code",
   "execution_count": 3,
   "id": "53fe3771",
   "metadata": {},
   "outputs": [],
   "source": [
    "max_prediction_length = 96 # Eventuell anpassen auf 96 sodass wir einen Tag vorhersagen \n",
    "max_encoder_length = 288    # einfach mal 3 \n",
    "training_cutoff = df[\"time_idx\"].max() - max_prediction_length\n",
    "\n",
    "training = TimeSeriesDataSet(\n",
    "    df[df.time_idx <= training_cutoff],\n",
    "    time_idx=\"time_idx\",\n",
    "    target=\"Messwert\",\n",
    "    group_ids=[\"meter_id\"],\n",
    "    static_categoricals=static_categoricals,\n",
    "    static_reals=static_reals,\n",
    "    time_varying_known_categoricals=time_varying_known_categoricals,\n",
    "    time_varying_known_reals=time_varying_known_reals,\n",
    "    time_varying_unknown_reals      = [\"Messwert\"],\n",
    "    max_encoder_length=max_encoder_length,\n",
    "    max_prediction_length=max_prediction_length,\n",
    "    min_encoder_length=max_encoder_length // 2,  # keep encoder length long (as it is in the validation set)\n",
    "    min_prediction_length=1,\n",
    "    target_normalizer=GroupNormalizer(\n",
    "        groups=[\"meter_id\"], transformation=\"softplus\"\n",
    "    ),  # use softplus and normalize by group\n",
    "    time_varying_unknown_categoricals=[],\n",
    "    allow_missing_timesteps=True,\n",
    "    add_relative_time_idx=True,\n",
    "    add_encoder_length=True,\n",
    "    add_target_scales=True,\n",
    ")\n",
    "\n",
    "# create validation set (predict=True) which means to predict the last max_prediction_length points in time\n",
    "# for each series\n",
    "validation = TimeSeriesDataSet.from_dataset(training, df, predict=True, stop_randomization=True)\n",
    "\n",
    "# create dataloaders for model\n",
    "batch_size = 128  # set this between 32 to 128\n",
    "train_dataloader = training.to_dataloader(train=True, batch_size=batch_size, num_workers=6, persistent_workers=True)\n",
    "val_dataloader = validation.to_dataloader(train=False, batch_size=batch_size * 10, num_workers=0)"
   ]
  },
  {
   "cell_type": "code",
   "execution_count": 4,
   "id": "42ad2f7e",
   "metadata": {},
   "outputs": [
    {
     "name": "stderr",
     "output_type": "stream",
     "text": [
      "c:\\Users\\maximilian.vanliende\\AppData\\Local\\anaconda3\\Lib\\site-packages\\lightning\\pytorch\\utilities\\parsing.py:209: Attribute 'loss' is an instance of `nn.Module` and is already saved during checkpointing. It is recommended to ignore them using `self.save_hyperparameters(ignore=['loss'])`.\n",
      "c:\\Users\\maximilian.vanliende\\AppData\\Local\\anaconda3\\Lib\\site-packages\\lightning\\pytorch\\utilities\\parsing.py:209: Attribute 'logging_metrics' is an instance of `nn.Module` and is already saved during checkpointing. It is recommended to ignore them using `self.save_hyperparameters(ignore=['logging_metrics'])`.\n",
      "GPU available: False, used: False\n",
      "TPU available: False, using: 0 TPU cores\n",
      "HPU available: False, using: 0 HPUs\n",
      "c:\\Users\\maximilian.vanliende\\AppData\\Local\\anaconda3\\Lib\\site-packages\\lightning\\pytorch\\trainer\\connectors\\logger_connector\\logger_connector.py:76: Starting from v1.9.0, `tensorboardX` has been removed as a dependency of the `lightning.pytorch` package, due to potential conflicts with other packages in the ML ecosystem. For this reason, `logger=True` will use `CSVLogger` as the default logger, unless the `tensorboard` or `tensorboardX` packages are found. Please `pip install lightning[extra]` or one of them to enable TensorBoard support by default\n",
      "c:\\Users\\maximilian.vanliende\\AppData\\Local\\anaconda3\\Lib\\site-packages\\lightning\\pytorch\\trainer\\connectors\\data_connector.py:425: The 'predict_dataloader' does not have many workers which may be a bottleneck. Consider increasing the value of the `num_workers` argument` to `num_workers=15` in the `DataLoader` to improve performance.\n"
     ]
    },
    {
     "data": {
      "text/plain": [
       "0.111043281853199"
      ]
     },
     "execution_count": 4,
     "metadata": {},
     "output_type": "execute_result"
    }
   ],
   "source": [
    "# calculate baseline mean absolute error, i.e. predict next value as the last available value from the history\n",
    "actuals = torch.cat([y for x, (y, weight) in iter(val_dataloader)])\n",
    "baseline_predictions = Baseline().predict(val_dataloader)\n",
    "(actuals - baseline_predictions).abs().mean().item()"
   ]
  },
  {
   "cell_type": "code",
   "execution_count": 5,
   "id": "b133cea8",
   "metadata": {},
   "outputs": [
    {
     "name": "stderr",
     "output_type": "stream",
     "text": [
      "Seed set to 42\n",
      "GPU available: False, used: False\n",
      "TPU available: False, using: 0 TPU cores\n",
      "HPU available: False, using: 0 HPUs\n"
     ]
    },
    {
     "name": "stdout",
     "output_type": "stream",
     "text": [
      "Number of parameters in network: 118.6k\n"
     ]
    },
    {
     "name": "stderr",
     "output_type": "stream",
     "text": [
      "c:\\Users\\maximilian.vanliende\\AppData\\Local\\anaconda3\\Lib\\site-packages\\lightning\\pytorch\\utilities\\parsing.py:209: Attribute 'loss' is an instance of `nn.Module` and is already saved during checkpointing. It is recommended to ignore them using `self.save_hyperparameters(ignore=['loss'])`.\n",
      "c:\\Users\\maximilian.vanliende\\AppData\\Local\\anaconda3\\Lib\\site-packages\\lightning\\pytorch\\utilities\\parsing.py:209: Attribute 'logging_metrics' is an instance of `nn.Module` and is already saved during checkpointing. It is recommended to ignore them using `self.save_hyperparameters(ignore=['logging_metrics'])`.\n"
     ]
    }
   ],
   "source": [
    "# configure network and trainer\n",
    "pl.seed_everything(42)\n",
    "early_stop_callback = EarlyStopping(monitor=\"val_loss\", min_delta=1e-5, patience=10, verbose=False, mode=\"min\")\n",
    "lr_logger = LearningRateMonitor(\"epoch\")  # log the learning rate\n",
    "logger = CSVLogger(\"logs_csv\")  # logging results to a csv file (tensorboard not compatible with python 3.13)\n",
    "\n",
    "trainer = pl.Trainer(\n",
    "    max_epochs=50,\n",
    "    precision='64',\n",
    "    devices=\"auto\",\n",
    "    # weights_summary=\"top\",\n",
    "    gradient_clip_val=0.1,\n",
    "    limit_train_batches=30,  # comment in for training, running validation every 30 batches\n",
    "    # fast_dev_run=True,  # comment in to check that networkor dataset has no serious bugs\n",
    "    callbacks=[lr_logger, early_stop_callback],\n",
    "    logger=logger,\n",
    ")\n",
    "\n",
    "\n",
    "tft = TemporalFusionTransformer.from_dataset(\n",
    "    training,\n",
    "    learning_rate=0.0001,\n",
    "    hidden_size=32,\n",
    "    attention_head_size=4,\n",
    "    lstm_layers=2,\n",
    "    dropout=0.2,\n",
    "    hidden_continuous_size=16,\n",
    "    optimizer=\"adam\",\n",
    "    output_size=7,  # 7 quantiles by default\n",
    "    loss=QuantileLoss(),\n",
    "    # max_encoder_length = max_encoder_length,\n",
    "    log_interval=1,  # uncomment for learning rate finder and otherwise, e.g. to 10 for logging every 10 batches\n",
    "    reduce_on_plateau_patience=4,\n",
    ")\n",
    "print(f\"Number of parameters in network: {tft.size()/1e3:.1f}k\")"
   ]
  },
  {
   "cell_type": "code",
   "execution_count": 6,
   "id": "51cacab8",
   "metadata": {},
   "outputs": [
    {
     "name": "stderr",
     "output_type": "stream",
     "text": [
      "\n",
      "   | Name                               | Type                            | Params | Mode \n",
      "------------------------------------------------------------------------------------------------\n",
      "0  | loss                               | QuantileLoss                    | 0      | train\n",
      "1  | logging_metrics                    | ModuleList                      | 0      | train\n",
      "2  | input_embeddings                   | MultiEmbedding                  | 748    | train\n",
      "3  | prescalers                         | ModuleDict                      | 576    | train\n",
      "4  | static_variable_selection          | VariableSelectionNetwork        | 28.1 K | train\n",
      "5  | encoder_variable_selection         | VariableSelectionNetwork        | 11.0 K | train\n",
      "6  | decoder_variable_selection         | VariableSelectionNetwork        | 8.9 K  | train\n",
      "7  | static_context_variable_selection  | GatedResidualNetwork            | 4.3 K  | train\n",
      "8  | static_context_initial_hidden_lstm | GatedResidualNetwork            | 4.3 K  | train\n",
      "9  | static_context_initial_cell_lstm   | GatedResidualNetwork            | 4.3 K  | train\n",
      "10 | static_context_enrichment          | GatedResidualNetwork            | 4.3 K  | train\n",
      "11 | lstm_encoder                       | LSTM                            | 16.9 K | train\n",
      "12 | lstm_decoder                       | LSTM                            | 16.9 K | train\n",
      "13 | post_lstm_gate_encoder             | GatedLinearUnit                 | 2.1 K  | train\n",
      "14 | post_lstm_add_norm_encoder         | AddNorm                         | 64     | train\n",
      "15 | static_enrichment                  | GatedResidualNetwork            | 5.3 K  | train\n",
      "16 | multihead_attn                     | InterpretableMultiHeadAttention | 2.6 K  | train\n",
      "17 | post_attn_gate_norm                | GateAddNorm                     | 2.2 K  | train\n",
      "18 | pos_wise_ff                        | GatedResidualNetwork            | 4.3 K  | train\n",
      "19 | pre_output_gate_norm               | GateAddNorm                     | 2.2 K  | train\n",
      "20 | output_layer                       | Linear                          | 231    | train\n",
      "------------------------------------------------------------------------------------------------\n",
      "118 K     Trainable params\n",
      "0         Non-trainable params\n",
      "118 K     Total params\n",
      "0.474     Total estimated model params size (MB)\n",
      "533       Modules in train mode\n",
      "0         Modules in eval mode\n"
     ]
    },
    {
     "data": {
      "application/vnd.jupyter.widget-view+json": {
       "model_id": "06a3f59411de4c289507bc223a4cc30e",
       "version_major": 2,
       "version_minor": 0
      },
      "text/plain": [
       "Sanity Checking: |          | 0/? [00:00<?, ?it/s]"
      ]
     },
     "metadata": {},
     "output_type": "display_data"
    },
    {
     "name": "stderr",
     "output_type": "stream",
     "text": [
      "c:\\Users\\maximilian.vanliende\\AppData\\Local\\anaconda3\\Lib\\site-packages\\lightning\\pytorch\\trainer\\connectors\\data_connector.py:425: The 'val_dataloader' does not have many workers which may be a bottleneck. Consider increasing the value of the `num_workers` argument` to `num_workers=15` in the `DataLoader` to improve performance.\n",
      "c:\\Users\\maximilian.vanliende\\AppData\\Local\\anaconda3\\Lib\\site-packages\\lightning\\pytorch\\loops\\fit_loop.py:310: The number of training batches (30) is smaller than the logging interval Trainer(log_every_n_steps=50). Set a lower value for log_every_n_steps if you want to see logs for the training epoch.\n"
     ]
    },
    {
     "data": {
      "application/vnd.jupyter.widget-view+json": {
       "model_id": "b3001d959f694452bb47e420bdb32102",
       "version_major": 2,
       "version_minor": 0
      },
      "text/plain": [
       "Training: |          | 0/? [00:00<?, ?it/s]"
      ]
     },
     "metadata": {},
     "output_type": "display_data"
    },
    {
     "data": {
      "application/vnd.jupyter.widget-view+json": {
       "model_id": "080cd2bd1e944c9cbec7d1d142a121b5",
       "version_major": 2,
       "version_minor": 0
      },
      "text/plain": [
       "Validation: |          | 0/? [00:00<?, ?it/s]"
      ]
     },
     "metadata": {},
     "output_type": "display_data"
    },
    {
     "data": {
      "application/vnd.jupyter.widget-view+json": {
       "model_id": "26a8c75618bb455bb6683a401f2c41b6",
       "version_major": 2,
       "version_minor": 0
      },
      "text/plain": [
       "Validation: |          | 0/? [00:00<?, ?it/s]"
      ]
     },
     "metadata": {},
     "output_type": "display_data"
    },
    {
     "data": {
      "application/vnd.jupyter.widget-view+json": {
       "model_id": "46c98fc0e39d40da83f9c6b8b1312721",
       "version_major": 2,
       "version_minor": 0
      },
      "text/plain": [
       "Validation: |          | 0/? [00:00<?, ?it/s]"
      ]
     },
     "metadata": {},
     "output_type": "display_data"
    },
    {
     "data": {
      "application/vnd.jupyter.widget-view+json": {
       "model_id": "720b195a99cd4897805c4baa426b2f7d",
       "version_major": 2,
       "version_minor": 0
      },
      "text/plain": [
       "Validation: |          | 0/? [00:00<?, ?it/s]"
      ]
     },
     "metadata": {},
     "output_type": "display_data"
    },
    {
     "data": {
      "application/vnd.jupyter.widget-view+json": {
       "model_id": "dadd5f075fab4415a3694f03dda35fbf",
       "version_major": 2,
       "version_minor": 0
      },
      "text/plain": [
       "Validation: |          | 0/? [00:00<?, ?it/s]"
      ]
     },
     "metadata": {},
     "output_type": "display_data"
    },
    {
     "data": {
      "application/vnd.jupyter.widget-view+json": {
       "model_id": "6ae2bf4667964af89489c6d8d5515e16",
       "version_major": 2,
       "version_minor": 0
      },
      "text/plain": [
       "Validation: |          | 0/? [00:00<?, ?it/s]"
      ]
     },
     "metadata": {},
     "output_type": "display_data"
    },
    {
     "data": {
      "application/vnd.jupyter.widget-view+json": {
       "model_id": "be7efb325f284db992a55b3736da27f3",
       "version_major": 2,
       "version_minor": 0
      },
      "text/plain": [
       "Validation: |          | 0/? [00:00<?, ?it/s]"
      ]
     },
     "metadata": {},
     "output_type": "display_data"
    },
    {
     "data": {
      "application/vnd.jupyter.widget-view+json": {
       "model_id": "6d92080f2497441a957154333f485882",
       "version_major": 2,
       "version_minor": 0
      },
      "text/plain": [
       "Validation: |          | 0/? [00:00<?, ?it/s]"
      ]
     },
     "metadata": {},
     "output_type": "display_data"
    },
    {
     "data": {
      "application/vnd.jupyter.widget-view+json": {
       "model_id": "5d8a90938d98403d92b8252fb00a6120",
       "version_major": 2,
       "version_minor": 0
      },
      "text/plain": [
       "Validation: |          | 0/? [00:00<?, ?it/s]"
      ]
     },
     "metadata": {},
     "output_type": "display_data"
    },
    {
     "data": {
      "application/vnd.jupyter.widget-view+json": {
       "model_id": "0d9d2f01d123417fa38e10b3c20ea873",
       "version_major": 2,
       "version_minor": 0
      },
      "text/plain": [
       "Validation: |          | 0/? [00:00<?, ?it/s]"
      ]
     },
     "metadata": {},
     "output_type": "display_data"
    },
    {
     "data": {
      "application/vnd.jupyter.widget-view+json": {
       "model_id": "5cefea17fb304f81a1a569428333e1ee",
       "version_major": 2,
       "version_minor": 0
      },
      "text/plain": [
       "Validation: |          | 0/? [00:00<?, ?it/s]"
      ]
     },
     "metadata": {},
     "output_type": "display_data"
    },
    {
     "data": {
      "application/vnd.jupyter.widget-view+json": {
       "model_id": "c12a7262a78b42b9858a938fce1bce33",
       "version_major": 2,
       "version_minor": 0
      },
      "text/plain": [
       "Validation: |          | 0/? [00:00<?, ?it/s]"
      ]
     },
     "metadata": {},
     "output_type": "display_data"
    },
    {
     "data": {
      "application/vnd.jupyter.widget-view+json": {
       "model_id": "7ae18f0e9eab4f6493a9200ec39eab42",
       "version_major": 2,
       "version_minor": 0
      },
      "text/plain": [
       "Validation: |          | 0/? [00:00<?, ?it/s]"
      ]
     },
     "metadata": {},
     "output_type": "display_data"
    },
    {
     "data": {
      "application/vnd.jupyter.widget-view+json": {
       "model_id": "fba2ef1d76114b37a159514c2584da7b",
       "version_major": 2,
       "version_minor": 0
      },
      "text/plain": [
       "Validation: |          | 0/? [00:00<?, ?it/s]"
      ]
     },
     "metadata": {},
     "output_type": "display_data"
    },
    {
     "data": {
      "application/vnd.jupyter.widget-view+json": {
       "model_id": "b29b2a124cf94645abee8cd0c0d39819",
       "version_major": 2,
       "version_minor": 0
      },
      "text/plain": [
       "Validation: |          | 0/? [00:00<?, ?it/s]"
      ]
     },
     "metadata": {},
     "output_type": "display_data"
    },
    {
     "data": {
      "application/vnd.jupyter.widget-view+json": {
       "model_id": "1141e90f093b4704b2b788285b1c39d4",
       "version_major": 2,
       "version_minor": 0
      },
      "text/plain": [
       "Validation: |          | 0/? [00:00<?, ?it/s]"
      ]
     },
     "metadata": {},
     "output_type": "display_data"
    },
    {
     "data": {
      "application/vnd.jupyter.widget-view+json": {
       "model_id": "e7a8ad7671a74478a76909d75ad7f44d",
       "version_major": 2,
       "version_minor": 0
      },
      "text/plain": [
       "Validation: |          | 0/? [00:00<?, ?it/s]"
      ]
     },
     "metadata": {},
     "output_type": "display_data"
    },
    {
     "data": {
      "application/vnd.jupyter.widget-view+json": {
       "model_id": "670eee18fde243678add7e72404122d3",
       "version_major": 2,
       "version_minor": 0
      },
      "text/plain": [
       "Validation: |          | 0/? [00:00<?, ?it/s]"
      ]
     },
     "metadata": {},
     "output_type": "display_data"
    },
    {
     "data": {
      "application/vnd.jupyter.widget-view+json": {
       "model_id": "99bfecb856694342875a0404f20135cd",
       "version_major": 2,
       "version_minor": 0
      },
      "text/plain": [
       "Validation: |          | 0/? [00:00<?, ?it/s]"
      ]
     },
     "metadata": {},
     "output_type": "display_data"
    },
    {
     "data": {
      "application/vnd.jupyter.widget-view+json": {
       "model_id": "2ba696da62c64f7db5e7eabfbf108d82",
       "version_major": 2,
       "version_minor": 0
      },
      "text/plain": [
       "Validation: |          | 0/? [00:00<?, ?it/s]"
      ]
     },
     "metadata": {},
     "output_type": "display_data"
    },
    {
     "data": {
      "application/vnd.jupyter.widget-view+json": {
       "model_id": "6503cfe4651b4f74bf7b36b403e011e3",
       "version_major": 2,
       "version_minor": 0
      },
      "text/plain": [
       "Validation: |          | 0/? [00:00<?, ?it/s]"
      ]
     },
     "metadata": {},
     "output_type": "display_data"
    },
    {
     "data": {
      "application/vnd.jupyter.widget-view+json": {
       "model_id": "7e1b1b9836b3436e8a2afdf13fad3858",
       "version_major": 2,
       "version_minor": 0
      },
      "text/plain": [
       "Validation: |          | 0/? [00:00<?, ?it/s]"
      ]
     },
     "metadata": {},
     "output_type": "display_data"
    },
    {
     "data": {
      "application/vnd.jupyter.widget-view+json": {
       "model_id": "fe760db329aa4e95a255ad945cc36a14",
       "version_major": 2,
       "version_minor": 0
      },
      "text/plain": [
       "Validation: |          | 0/? [00:00<?, ?it/s]"
      ]
     },
     "metadata": {},
     "output_type": "display_data"
    },
    {
     "data": {
      "application/vnd.jupyter.widget-view+json": {
       "model_id": "fee2375c070744738bc7dc45fac20c28",
       "version_major": 2,
       "version_minor": 0
      },
      "text/plain": [
       "Validation: |          | 0/? [00:00<?, ?it/s]"
      ]
     },
     "metadata": {},
     "output_type": "display_data"
    },
    {
     "data": {
      "application/vnd.jupyter.widget-view+json": {
       "model_id": "d4dbab26013c498ba17baf10b8097c2b",
       "version_major": 2,
       "version_minor": 0
      },
      "text/plain": [
       "Validation: |          | 0/? [00:00<?, ?it/s]"
      ]
     },
     "metadata": {},
     "output_type": "display_data"
    },
    {
     "data": {
      "application/vnd.jupyter.widget-view+json": {
       "model_id": "d9ca411de894438c9944aaad134dc48f",
       "version_major": 2,
       "version_minor": 0
      },
      "text/plain": [
       "Validation: |          | 0/? [00:00<?, ?it/s]"
      ]
     },
     "metadata": {},
     "output_type": "display_data"
    },
    {
     "data": {
      "application/vnd.jupyter.widget-view+json": {
       "model_id": "6fbe6c160c6044d3b4bf0a1a3edde693",
       "version_major": 2,
       "version_minor": 0
      },
      "text/plain": [
       "Validation: |          | 0/? [00:00<?, ?it/s]"
      ]
     },
     "metadata": {},
     "output_type": "display_data"
    },
    {
     "data": {
      "application/vnd.jupyter.widget-view+json": {
       "model_id": "c320d19e1017441e946b6be5781da4cc",
       "version_major": 2,
       "version_minor": 0
      },
      "text/plain": [
       "Validation: |          | 0/? [00:00<?, ?it/s]"
      ]
     },
     "metadata": {},
     "output_type": "display_data"
    },
    {
     "data": {
      "application/vnd.jupyter.widget-view+json": {
       "model_id": "7a2c6170fb9340098da810177de22477",
       "version_major": 2,
       "version_minor": 0
      },
      "text/plain": [
       "Validation: |          | 0/? [00:00<?, ?it/s]"
      ]
     },
     "metadata": {},
     "output_type": "display_data"
    },
    {
     "data": {
      "application/vnd.jupyter.widget-view+json": {
       "model_id": "4071f3835fac4854b1e2fa8ad0b96625",
       "version_major": 2,
       "version_minor": 0
      },
      "text/plain": [
       "Validation: |          | 0/? [00:00<?, ?it/s]"
      ]
     },
     "metadata": {},
     "output_type": "display_data"
    },
    {
     "data": {
      "application/vnd.jupyter.widget-view+json": {
       "model_id": "d52abd3682db4f51a004d7e641cd832c",
       "version_major": 2,
       "version_minor": 0
      },
      "text/plain": [
       "Validation: |          | 0/? [00:00<?, ?it/s]"
      ]
     },
     "metadata": {},
     "output_type": "display_data"
    },
    {
     "data": {
      "application/vnd.jupyter.widget-view+json": {
       "model_id": "7d6ef97b1ee443a9b0e40cd636ad3a66",
       "version_major": 2,
       "version_minor": 0
      },
      "text/plain": [
       "Validation: |          | 0/? [00:00<?, ?it/s]"
      ]
     },
     "metadata": {},
     "output_type": "display_data"
    },
    {
     "data": {
      "application/vnd.jupyter.widget-view+json": {
       "model_id": "744b05d6b55c4c2c89e42276bb05bf44",
       "version_major": 2,
       "version_minor": 0
      },
      "text/plain": [
       "Validation: |          | 0/? [00:00<?, ?it/s]"
      ]
     },
     "metadata": {},
     "output_type": "display_data"
    },
    {
     "data": {
      "application/vnd.jupyter.widget-view+json": {
       "model_id": "b6fd7d8922fe4c03b5194db378ed6836",
       "version_major": 2,
       "version_minor": 0
      },
      "text/plain": [
       "Validation: |          | 0/? [00:00<?, ?it/s]"
      ]
     },
     "metadata": {},
     "output_type": "display_data"
    },
    {
     "data": {
      "application/vnd.jupyter.widget-view+json": {
       "model_id": "8b117753b8dd499db89d78894a2fb5ba",
       "version_major": 2,
       "version_minor": 0
      },
      "text/plain": [
       "Validation: |          | 0/? [00:00<?, ?it/s]"
      ]
     },
     "metadata": {},
     "output_type": "display_data"
    },
    {
     "data": {
      "application/vnd.jupyter.widget-view+json": {
       "model_id": "5b7515ec87804b25bf78c64c31bb5948",
       "version_major": 2,
       "version_minor": 0
      },
      "text/plain": [
       "Validation: |          | 0/? [00:00<?, ?it/s]"
      ]
     },
     "metadata": {},
     "output_type": "display_data"
    },
    {
     "data": {
      "application/vnd.jupyter.widget-view+json": {
       "model_id": "22cada48720c478ab96befdf8145340d",
       "version_major": 2,
       "version_minor": 0
      },
      "text/plain": [
       "Validation: |          | 0/? [00:00<?, ?it/s]"
      ]
     },
     "metadata": {},
     "output_type": "display_data"
    },
    {
     "data": {
      "application/vnd.jupyter.widget-view+json": {
       "model_id": "f10c626d0b89420692917e449d576e4f",
       "version_major": 2,
       "version_minor": 0
      },
      "text/plain": [
       "Validation: |          | 0/? [00:00<?, ?it/s]"
      ]
     },
     "metadata": {},
     "output_type": "display_data"
    },
    {
     "data": {
      "application/vnd.jupyter.widget-view+json": {
       "model_id": "2c8c87655f58485c81b1275797a1c946",
       "version_major": 2,
       "version_minor": 0
      },
      "text/plain": [
       "Validation: |          | 0/? [00:00<?, ?it/s]"
      ]
     },
     "metadata": {},
     "output_type": "display_data"
    },
    {
     "data": {
      "application/vnd.jupyter.widget-view+json": {
       "model_id": "4bcba3d608f54909a2e5cbb103097853",
       "version_major": 2,
       "version_minor": 0
      },
      "text/plain": [
       "Validation: |          | 0/? [00:00<?, ?it/s]"
      ]
     },
     "metadata": {},
     "output_type": "display_data"
    },
    {
     "data": {
      "application/vnd.jupyter.widget-view+json": {
       "model_id": "66e935f4276d4b2ab000bfa4f9585ef1",
       "version_major": 2,
       "version_minor": 0
      },
      "text/plain": [
       "Validation: |          | 0/? [00:00<?, ?it/s]"
      ]
     },
     "metadata": {},
     "output_type": "display_data"
    },
    {
     "data": {
      "application/vnd.jupyter.widget-view+json": {
       "model_id": "d35a4c9923fd47248f34395f5883d302",
       "version_major": 2,
       "version_minor": 0
      },
      "text/plain": [
       "Validation: |          | 0/? [00:00<?, ?it/s]"
      ]
     },
     "metadata": {},
     "output_type": "display_data"
    },
    {
     "data": {
      "application/vnd.jupyter.widget-view+json": {
       "model_id": "bf201df042b9465499aab52d1ff9d0f4",
       "version_major": 2,
       "version_minor": 0
      },
      "text/plain": [
       "Validation: |          | 0/? [00:00<?, ?it/s]"
      ]
     },
     "metadata": {},
     "output_type": "display_data"
    },
    {
     "data": {
      "application/vnd.jupyter.widget-view+json": {
       "model_id": "e6ceb98e84c64c2bae901c1028734a47",
       "version_major": 2,
       "version_minor": 0
      },
      "text/plain": [
       "Validation: |          | 0/? [00:00<?, ?it/s]"
      ]
     },
     "metadata": {},
     "output_type": "display_data"
    },
    {
     "data": {
      "application/vnd.jupyter.widget-view+json": {
       "model_id": "14534ee3bb004dcbabe1d539c6ef6407",
       "version_major": 2,
       "version_minor": 0
      },
      "text/plain": [
       "Validation: |          | 0/? [00:00<?, ?it/s]"
      ]
     },
     "metadata": {},
     "output_type": "display_data"
    },
    {
     "data": {
      "application/vnd.jupyter.widget-view+json": {
       "model_id": "e3dee640cf1840049ebcf822d016c780",
       "version_major": 2,
       "version_minor": 0
      },
      "text/plain": [
       "Validation: |          | 0/? [00:00<?, ?it/s]"
      ]
     },
     "metadata": {},
     "output_type": "display_data"
    },
    {
     "data": {
      "application/vnd.jupyter.widget-view+json": {
       "model_id": "339e6c8304cf4adfabcf93351f4d5bb3",
       "version_major": 2,
       "version_minor": 0
      },
      "text/plain": [
       "Validation: |          | 0/? [00:00<?, ?it/s]"
      ]
     },
     "metadata": {},
     "output_type": "display_data"
    },
    {
     "data": {
      "application/vnd.jupyter.widget-view+json": {
       "model_id": "8eec70e8935e42dc91e04af222a951c5",
       "version_major": 2,
       "version_minor": 0
      },
      "text/plain": [
       "Validation: |          | 0/? [00:00<?, ?it/s]"
      ]
     },
     "metadata": {},
     "output_type": "display_data"
    },
    {
     "data": {
      "application/vnd.jupyter.widget-view+json": {
       "model_id": "d7d256999df14f60b61cbca01e5d5644",
       "version_major": 2,
       "version_minor": 0
      },
      "text/plain": [
       "Validation: |          | 0/? [00:00<?, ?it/s]"
      ]
     },
     "metadata": {},
     "output_type": "display_data"
    },
    {
     "data": {
      "application/vnd.jupyter.widget-view+json": {
       "model_id": "4624d5c893fd4e95a59cfca1d0a9b31f",
       "version_major": 2,
       "version_minor": 0
      },
      "text/plain": [
       "Validation: |          | 0/? [00:00<?, ?it/s]"
      ]
     },
     "metadata": {},
     "output_type": "display_data"
    },
    {
     "name": "stderr",
     "output_type": "stream",
     "text": [
      "`Trainer.fit` stopped: `max_epochs=50` reached.\n"
     ]
    }
   ],
   "source": [
    "# fit network\n",
    "trainer.fit(\n",
    "    tft,\n",
    "    train_dataloaders=train_dataloader,\n",
    "    val_dataloaders=val_dataloader\n",
    ")"
   ]
  },
  {
   "cell_type": "code",
   "execution_count": 7,
   "id": "46c8593d",
   "metadata": {},
   "outputs": [
    {
     "name": "stderr",
     "output_type": "stream",
     "text": [
      "`Trainer.fit` stopped: `max_epochs=50` reached.\n",
      "LR finder stopped early after 1500 steps due to diverging loss.\n",
      "Restoring states from the checkpoint path at c:\\Users\\maximilian.vanliende\\OneDrive - Perfetti Van Melle\\Dokumente\\GitHub\\OpenMeter_Analysis\\.lr_find_27e6f515-b3b7-4b12-94fb-d74899553e34.ckpt\n",
      "Restored all states from the checkpoint at c:\\Users\\maximilian.vanliende\\OneDrive - Perfetti Van Melle\\Dokumente\\GitHub\\OpenMeter_Analysis\\.lr_find_27e6f515-b3b7-4b12-94fb-d74899553e34.ckpt\n",
      "Failed to compute suggestion for learning rate because there are not enough points. Increase the loop iteration limits or the size of your dataset/dataloader.\n",
      "Failed to compute suggestion for learning rate because there are not enough points. Increase the loop iteration limits or the size of your dataset/dataloader.\n"
     ]
    },
    {
     "name": "stdout",
     "output_type": "stream",
     "text": [
      "suggested learning rate: None\n"
     ]
    },
    {
     "data": {
      "image/png": "[encoded data removed]",
      "text/plain": [
       "<Figure size 640x480 with 1 Axes>"
      ]
     },
     "metadata": {},
     "output_type": "display_data"
    },
    {
     "name": "stderr",
     "output_type": "stream",
     "text": [
      "C:\\Users\\maximilian.vanliende\\AppData\\Local\\Temp\\ipykernel_3200\\2581680556.py:14: UserWarning: FigureCanvasAgg is non-interactive, and thus cannot be shown\n",
      "  fig.show()\n"
     ]
    }
   ],
   "source": [
    "from pytorch_lightning.tuner.lr_finder import _lr_find\n",
    "\n",
    "# find optimal learning rate\n",
    "res = _lr_find(\n",
    "    model=tft,\n",
    "    trainer=trainer,\n",
    "    max_lr=10.0,\n",
    "    min_lr=1e-6,\n",
    "    num_training=100\n",
    ")\n",
    "\n",
    "print(f\"suggested learning rate: {res.suggestion()}\")\n",
    "fig = res.plot(show=True, suggest=True)\n",
    "fig.show()"
   ]
  },
  {
   "cell_type": "code",
   "execution_count": 9,
   "id": "d9ca1471",
   "metadata": {},
   "outputs": [
    {
     "name": "stdout",
     "output_type": "stream",
     "text": [
      "MSE:           0.0208\n",
      "RMSE:          0.1442\n",
      "MAE:           0.0746\n",
      "SMAPE:         0.40%\n",
      "Quantile Loss: 0.1449\n"
     ]
    }
   ],
   "source": [
    "\n",
    "import torch\n",
    "from sklearn.metrics import mean_squared_error, mean_absolute_error\n",
    "from pytorch_forecasting.metrics import SMAPE, QuantileLoss\n",
    "\n",
    "# Modell auf float32 casten (gewonnene Gewichte waren double durch precision='64')\n",
    "tft = tft.float()\n",
    "\n",
    "# Evaluationsmodus aktivieren\n",
    "tft.eval()\n",
    "\n",
    "# Vorhersagen unter torch.no_grad() generieren\n",
    "with torch.no_grad():\n",
    "    # preds als Float-Tensor im selben dtype wie die Gewichte\n",
    "    preds = tft.predict(val_dataloader)  \n",
    "    # falls predict ein NumPy-Array zurückgibt, in Float-Tensor wandeln:\n",
    "    if not isinstance(preds, torch.Tensor):\n",
    "        preds = torch.from_numpy(preds).float()\n",
    "\n",
    "# tatsächliche Werte (ebenfalls float32) sammeln\n",
    "actuals = torch.cat([y for x, (y, _) in iter(val_dataloader)]).float()\n",
    "\n",
    "# Flatten für sklearn\n",
    "preds_flat   = preds.numpy().flatten()\n",
    "actuals_flat = actuals.numpy().flatten()\n",
    "\n",
    "# Gängige Regressionsmetriken\n",
    "mse  = mean_squared_error(actuals_flat, preds_flat)\n",
    "rmse = mse ** 0.5\n",
    "mae  = mean_absolute_error(actuals_flat, preds_flat)\n",
    "\n",
    "# TFT-spezifische Metriken\n",
    "smape         = SMAPE()(preds, actuals).item()\n",
    "quantile_loss = QuantileLoss()(preds, actuals).item()\n",
    "\n",
    "# Ausgabe\n",
    "print(f\"MSE:           {mse:.4f}\")\n",
    "print(f\"RMSE:          {rmse:.4f}\")\n",
    "print(f\"MAE:           {mae:.4f}\")\n",
    "print(f\"SMAPE:         {smape:.2f}%\")\n",
    "print(f\"Quantile Loss: {quantile_loss:.4f}\")\n"
   ]
  },
  {
   "cell_type": "code",
   "execution_count": 10,
   "id": "d0a242fd",
   "metadata": {},
   "outputs": [
    {
     "name": "stderr",
     "output_type": "stream",
     "text": [
      "c:\\Users\\maximilian.vanliende\\AppData\\Local\\anaconda3\\Lib\\site-packages\\lightning\\pytorch\\trainer\\connectors\\data_connector.py:425: The 'predict_dataloader' does not have many workers which may be a bottleneck. Consider increasing the value of the `num_workers` argument` to `num_workers=15` in the `DataLoader` to improve performance.\n"
     ]
    },
    {
     "data": {
      "image/png": "[encoded data removed]",
      "text/plain": [
       "<Figure size 640x480 with 1 Axes>"
      ]
     },
     "metadata": {},
     "output_type": "display_data"
    }
   ],
   "source": [
    "# %% 1) Zeitreihe: Ist vs. Vorhersage (Median)\n",
    "import matplotlib.pyplot as plt\n",
    "import torch\n",
    "\n",
    "# Vorhersagen (Median) holen\n",
    "tft.eval()\n",
    "with torch.no_grad():\n",
    "    preds_all = tft.predict(val_dataloader)  # [n_samples, prediction_length]\n",
    "# echte Werte\n",
    "actuals_all = torch.cat([y for x,(y,_) in iter(val_dataloader)])\n",
    "\n",
    "# für eine Beispielserie (erste Batch + erste Serie)\n",
    "series_idx = 0\n",
    "true_series = actuals_all[series_idx].numpy()\n",
    "pred_series = preds_all[series_idx].numpy()\n",
    "\n",
    "plt.figure()\n",
    "plt.plot(true_series, label=\"Tatsächlich\")\n",
    "plt.plot(pred_series, label=\"Vorhersage (Median)\")\n",
    "plt.legend()\n",
    "plt.title(\"Ist vs. Vorhersage für eine Serie\")\n",
    "plt.xlabel(\"Zeitschritt\")\n",
    "plt.ylabel(\"Messwert\")\n",
    "plt.show()\n"
   ]
  },
  {
   "cell_type": "code",
   "execution_count": 11,
   "id": "ed6cb0f8",
   "metadata": {},
   "outputs": [
    {
     "data": {
      "image/png": "[encoded data removed]",
      "text/plain": [
       "<Figure size 640x480 with 1 Axes>"
      ]
     },
     "metadata": {},
     "output_type": "display_data"
    }
   ],
   "source": [
    "# %% 2) Residuen über die Zeit\n",
    "residuals = true_series - pred_series\n",
    "\n",
    "plt.figure()\n",
    "plt.plot(residuals)\n",
    "plt.axhline(0, linestyle=\"--\")\n",
    "plt.title(\"Residuen über die Vorhersageperiode\")\n",
    "plt.xlabel(\"Zeitschritt\")\n",
    "plt.ylabel(\"Residuum\")\n",
    "plt.show()\n"
   ]
  },
  {
   "cell_type": "code",
   "execution_count": 12,
   "id": "74f98607",
   "metadata": {},
   "outputs": [
    {
     "data": {
      "image/png": "[encoded data removed]",
      "text/plain": [
       "<Figure size 640x480 with 1 Axes>"
      ]
     },
     "metadata": {},
     "output_type": "display_data"
    }
   ],
   "source": [
    "# %% 3) Fehler-Verteilung (Histogramm)\n",
    "from sklearn.metrics import mean_absolute_error\n",
    "\n",
    "# alle Fehler aufsammeln\n",
    "all_errors = (actuals_all.numpy().flatten() - preds_all.numpy().flatten())\n",
    "\n",
    "plt.figure()\n",
    "plt.hist(all_errors, bins=50)\n",
    "plt.title(\"Verteilung der Vorhersagefehler\")\n",
    "plt.xlabel(\"Fehler (Ist – Vorh.)\")\n",
    "plt.ylabel(\"Häufigkeit\")\n",
    "plt.show()\n"
   ]
  },
  {
   "cell_type": "code",
   "execution_count": 15,
   "id": "bf9d856b",
   "metadata": {},
   "outputs": [
    {
     "data": {
      "image/png": "[encoded data removed]",
      "text/plain": [
       "<Figure size 640x480 with 1 Axes>"
      ]
     },
     "metadata": {},
     "output_type": "display_data"
    }
   ],
   "source": [
    "# %% 4) Quantile-Bänder (z.B. 10%, 50%, 90%)\n",
    "import torch\n",
    "import matplotlib.pyplot as plt\n",
    "\n",
    "# gewünschte Quantile\n",
    "quantiles = [0.1, 0.5, 0.9]\n",
    "\n",
    "# Vorhersage aller Quantile abfragen\n",
    "tft.eval()\n",
    "with torch.no_grad():\n",
    "    preds_q = tft.predict(\n",
    "        val_dataloader,\n",
    "        mode=\"quantiles\",\n",
    "        mode_kwargs={\"quantiles\": quantiles},\n",
    "    )  # -> Tensor [n_samples, prediction_length, n_quantiles]\n",
    "\n",
    "# echte Werte\n",
    "actuals_all = torch.cat([y for x, (y, _) in iter(val_dataloader)])\n",
    "\n",
    "# Beispielserie wählen\n",
    "series_idx = 0\n",
    "q_series   = preds_q[series_idx]           # [prediction_length, n_quantiles]\n",
    "true_series = actuals_all[series_idx].numpy()\n",
    "\n",
    "lower  = q_series[:, 0].numpy()\n",
    "median = q_series[:, 1].numpy()\n",
    "upper  = q_series[:, 2].numpy()\n",
    "\n",
    "plt.figure()\n",
    "plt.plot(median, label=\"Median\")\n",
    "plt.fill_between(range(len(median)), lower, upper, alpha=0.2)\n",
    "plt.plot(true_series, label=\"Tatsächlich\")\n",
    "plt.legend()\n",
    "plt.title(\"Quantile-Bänder (10%–90%) vs. Median\")\n",
    "plt.xlabel(\"Zeitschritt\")\n",
    "plt.ylabel(\"Messwert\")\n",
    "plt.show()\n",
    "\n"
   ]
  },
  {
   "cell_type": "code",
   "execution_count": null,
   "id": "b05d00f1",
   "metadata": {},
   "outputs": [
    {
     "name": "stderr",
     "output_type": "stream",
     "text": [
      "C:\\Users\\maximilian.vanliende\\AppData\\Local\\Temp\\ipykernel_3200\\540873177.py:38: FutureWarning: 'M' is deprecated and will be removed in a future version, please use 'ME' instead.\n",
      "  dates      = pd.date_range(start_date,\n"
     ]
    },
    {
     "data": {
      "image/png": "[encoded data removed]",
      "text/plain": [
       "<Figure size 1000x500 with 1 Axes>"
      ]
     },
     "metadata": {},
     "output_type": "display_data"
    }
   ],
   "source": [
    "# %% 1) Zeitreihe: Ist vs. Vorhersage (Median) mit richtiger Zeitachse\n",
    "import matplotlib.pyplot as plt\n",
    "import matplotlib.dates as mdates\n",
    "import pandas as pd\n",
    "import torch\n",
    "\n",
    "\n",
    "tft.eval()\n",
    "with torch.no_grad():\n",
    "    preds_all = tft.predict(val_dataloader)             # [n_samples, prediction_length]\n",
    "\n",
    "actuals_all = torch.cat([y for x, (y, _) in val_dataloader])\n",
    "\n",
    "\n",
    "series_idx   = 0\n",
    "true_series  = actuals_all[series_idx].numpy()\n",
    "pred_series  = preds_all[series_idx].numpy()\n",
    "\n",
    "# --------------------------------------------------\n",
    "start_date = pd.Timestamp(\"2018-01-01\")          # *hier den ersten Monat anpassen!*\n",
    "dates      = pd.date_range(start_date,\n",
    "                           periods=len(true_series),\n",
    "                           freq=\"M\")             # 'M' = Monatsende\n",
    "\n",
    "fig, ax = plt.subplots(figsize=(10, 5))\n",
    "\n",
    "ax.plot(dates, true_series, label=\"Tatsächlich\")\n",
    "ax.plot(dates, pred_series,  label=\"Vorhersage (Median)\")\n",
    "\n",
    "# Achsen-Formatierung: Jahres-Ticks groß, Monats-Ticks klein\n",
    "ax.xaxis.set_major_locator(mdates.YearLocator())\n",
    "ax.xaxis.set_major_formatter(mdates.DateFormatter(\"%Y\"))\n",
    "ax.xaxis.set_minor_locator(mdates.MonthLocator())\n",
    "\n",
    "fig.autofmt_xdate()          # Datums-Beschriftungen drehen/kürzen\n",
    "\n",
    "ax.set_title(\"Ist vs. Vorhersage für eine Serie\")\n",
    "ax.set_xlabel(\"Zeit\")\n",
    "ax.set_ylabel(\"Messwert\")\n",
    "ax.legend()\n",
    "\n",
    "plt.tight_layout()\n",
    "plt.show()\n"
   ]
  }
 ],
 "metadata": {
  "kernelspec": {
   "display_name": "base",
   "language": "python",
   "name": "python3"
  },
  "language_info": {
   "codemirror_mode": {
    "name": "ipython",
    "version": 3
   },
   "file_extension": ".py",
   "mimetype": "text/x-python",
   "name": "python",
   "nbconvert_exporter": "python",
   "pygments_lexer": "ipython3",
   "version": "3.12.7"
  }
 },
 "nbformat": 4,
 "nbformat_minor": 5
}
