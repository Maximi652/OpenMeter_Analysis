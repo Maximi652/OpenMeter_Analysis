{
  "cells": [
    {
      "cell_type": "markdown",
      "metadata": {},
      "source": "# \ud83e\udde0 Temporal Fusion Transformer (TFT) - Beispiel\n\nEin praktisches Beispiel f\u00fcr Zeitreihen-Vorhersage mit PyTorch Forecasting und dem Temporal Fusion Transformer (TFT)."
    },
    {
      "cell_type": "code",
      "execution_count": null,
      "metadata": {},
      "outputs": [],
      "source": "# \ud83d\udce6 Notwendige Pakete installieren\n# (auskommentieren, wenn bereits installiert)\n# !pip install pytorch-lightning pytorch-forecasting pandas scikit-learn"
    },
    {
      "cell_type": "code",
      "execution_count": null,
      "metadata": {},
      "outputs": [],
      "source": "# \ud83d\udcc1 1. Daten laden und vorbereiten\nimport pandas as pd\nfrom pytorch_forecasting.data.examples import get_stallion_data\n\n# Beispieldaten (\u00e4hnlich Rossmann-Ums\u00e4tze)\ndata = get_stallion_data()\n\n# Nur eine Agentur zur Vereinfachung\ndata = data[data[\"agency\"] == \"Agency_01\"]\n\n# Zeitindex erstellen\ndata[\"time_idx\"] = data[\"month\"].dt.month + data[\"month\"].dt.year * 12\n\n# Sortieren\ndata = data.sort_values([\"agency\", \"sku\", \"time_idx\"])\ndata.head()"
    },
    {
      "cell_type": "code",
      "execution_count": null,
      "metadata": {},
      "outputs": [],
      "source": "# \ud83d\udcc1 2. TFT-Datensatz definieren\nfrom pytorch_forecasting.data import TimeSeriesDataSet\nfrom torch.utils.data import DataLoader\n\nmax_encoder_length = 12\nmax_prediction_length = 6\ntraining_cutoff = data[\"time_idx\"].max() - max_prediction_length\n\ntraining = TimeSeriesDataSet(\n    data[lambda x: x.time_idx <= training_cutoff],\n    time_idx=\"time_idx\",\n    target=\"volume\",\n    group_ids=[\"agency\", \"sku\"],\n    max_encoder_length=max_encoder_length,\n    max_prediction_length=max_prediction_length,\n    time_varying_unknown_reals=[\"volume\"],\n    time_varying_known_reals=[\"time_idx\"],\n    static_categoricals=[\"agency\", \"sku\"],\n    add_relative_time_idx=True,\n    add_target_scales=True,\n    add_encoder_length=True,\n)\n\ntrain_dataloader = training.to_dataloader(train=True, batch_size=64)"
    },
    {
      "cell_type": "code",
      "execution_count": null,
      "metadata": {},
      "outputs": [],
      "source": "# \ud83d\udcc1 3. Modell trainieren\nfrom pytorch_forecasting.models import TemporalFusionTransformer\nfrom pytorch_lightning import Trainer\n\n# Modell definieren\ntft = TemporalFusionTransformer.from_dataset(\n    training,\n    learning_rate=0.03,\n    hidden_size=16,\n    attention_head_size=1,\n    dropout=0.1,\n    loss=\"QuantileLoss\",\n    log_interval=10,\n    reduce_on_plateau_patience=4,\n)\n\n# Trainer\ntrainer = Trainer(\n    max_epochs=20,\n    gradient_clip_val=0.1,\n    enable_checkpointing=True,\n    logger=False,\n    enable_model_summary=True,\n)\n\ntrainer.fit(tft, train_dataloader)"
    },
    {
      "cell_type": "code",
      "execution_count": null,
      "metadata": {},
      "outputs": [],
      "source": "# \ud83d\udcc1 4. Vorhersage erstellen\ntest = TimeSeriesDataSet.from_dataset(training, data, predict=True, stop_randomization=True)\ntest_dataloader = test.to_dataloader(train=False, batch_size=64)\n\nraw_predictions, x = tft.predict(test_dataloader, mode=\"raw\", return_x=True)"
    },
    {
      "cell_type": "code",
      "execution_count": null,
      "metadata": {},
      "outputs": [],
      "source": "# \ud83d\udcc8 5. Plotten der Vorhersage\ntft.plot_prediction(x, raw_predictions, idx=0)"
    }
  ],
  "metadata": {
    "kernelspec": {
      "display_name": "Python 3",
      "language": "python",
      "name": "python3"
    },
    "language_info": {
      "name": "python",
      "version": "3.10"
    }
  },
  "nbformat": 4,
  "nbformat_minor": 5
}