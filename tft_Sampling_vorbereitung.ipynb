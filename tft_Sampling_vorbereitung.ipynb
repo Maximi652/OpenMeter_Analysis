{
  "cells": [
    {
      "cell_type": "code",
      "execution_count": 1,
      "id": "1045fbe2",
      "metadata": {},
      "outputs": [],
      "source": [
        "import pandas as pd\n",
        "import random"
      ]
    },
    {
      "cell_type": "code",
      "execution_count": 2,
      "id": "f4f364a8",
      "metadata": {},
      "outputs": [],
      "source": [
        "CSV_PATH        = \"/Users/maxi/Desktop/SensorDatenMitGeoDaten_v2.csv\"   # Originaldatei\n",
        "TIMESTAMP_COL   = \"Zeitstempel\"              # Name der Zeitstempelspalte\n",
        "SAMPLE_N        = 1_000_000                  # Zeilen fürs Sample (None = ganze Datei)\n",
        "RANDOM_SAMPLE   = False                      # True  = zufällige N Zeilen\n",
        "TRAIN_RATIO     = 0.8                        # 80 % Training, 20 % Test\n"
      ]
    },
    {
      "cell_type": "code",
      "execution_count": 3,
      "id": "994affbf",
      "metadata": {},
      "outputs": [
        {
          "name": "stderr",
          "output_type": "stream",
          "text": [
            "/var/folders/c0/bb24fmsx45vgrsz0nl893g940000gn/T/ipykernel_42820/238367450.py:1: DtypeWarning: Columns (19,20,39) have mixed types. Specify dtype option on import or set low_memory=False.\n",
            "  df = pd.read_csv(\n"
          ]
        }
      ],
      "source": [
        "df = pd.read_csv(\n",
        "    CSV_PATH,\n",
        "    parse_dates=[TIMESTAMP_COL],            \n",
        ")"
      ]
    },
    {
      "cell_type": "code",
      "execution_count": 4,
      "id": "83bf0c3e",
      "metadata": {},
      "outputs": [],
      "source": [
        "# 2) Sample bilden\n",
        "if SAMPLE_N is not None:\n",
        "    if RANDOM_SAMPLE:\n",
        "        # Zufällig N Zeilen ziehen\n",
        "        df_sample = df.sample(n=SAMPLE_N, random_state=42)\n",
        "    else:\n",
        "        # Einfach die ersten N Zeilen nehmen\n",
        "        df_sample = df.iloc[:SAMPLE_N].copy()\n",
        "else:\n",
        "    df_sample = df.copy()\n",
        "\n",
        "# 3) Chronologisch sortieren (falls noch nicht sortiert)\n",
        "df_sample = df_sample.sort_values(TIMESTAMP_COL).reset_index(drop=True)\n"
      ]
    },
    {
      "cell_type": "code",
      "execution_count": 5,
      "id": "1cae6683",
      "metadata": {},
      "outputs": [],
      "source": [
        "# 4) Train/Test-Split\n",
        "split_idx = int(len(df_sample) * TRAIN_RATIO)\n",
        "train_df  = df_sample.iloc[:split_idx].copy()\n",
        "test_df   = df_sample.iloc[split_idx:].copy()\n"
      ]
    },
    {
      "cell_type": "code",
      "execution_count": 6,
      "id": "0a71395b",
      "metadata": {},
      "outputs": [],
      "source": [
        "\n",
        "# 5) Dateien speichern\n",
        "train_df.to_csv(\"/Users/maxi/Desktop/train_data.csv\", index=False)\n",
        "test_df.to_csv(\"/Users/maxi/Desktop/test_data.csv\",  index=False)"
      ]
    }
  ],
  "metadata": {
    "kernelspec": {
      "display_name": "Python 3",
      "language": "python",
      "name": "python3"
    },
    "language_info": {
      "codemirror_mode": {
        "name": "ipython",
        "version": 3
      },
      "file_extension": ".py",
      "mimetype": "text/x-python",
      "name": "python",
      "nbconvert_exporter": "python",
      "pygments_lexer": "ipython3",
      "version": "3.11.8"
    }
  },
  "nbformat": 4,
  "nbformat_minor": 5
}
