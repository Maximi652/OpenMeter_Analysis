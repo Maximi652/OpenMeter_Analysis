{
 "cells": [
  {
   "cell_type": "code",
   "execution_count": null,
   "id": "c6b8e27e",
   "metadata": {},
   "outputs": [
    {
     "name": "stderr",
     "output_type": "stream",
     "text": [
      "c:\\Users\\jonas\\AppData\\Local\\Programs\\Python\\Python313\\Lib\\site-packages\\tqdm\\auto.py:21: TqdmWarning: IProgress not found. Please update jupyter and ipywidgets. See https://ipywidgets.readthedocs.io/en/stable/user_install.html\n",
      "  from .autonotebook import tqdm as notebook_tqdm\n",
      "C:\\Users\\jonas\\AppData\\Local\\Temp\\ipykernel_15992\\2749276298.py:16: DtypeWarning: Columns (20,21,40) have mixed types. Specify dtype option on import or set low_memory=False.\n",
      "  train = pd.read_csv(DATA_PATH, parse_dates=[\"Zeitstempel\"])\n",
      "C:\\Users\\jonas\\AppData\\Local\\Temp\\ipykernel_15992\\2749276298.py:17: DtypeWarning: Columns (20,21,40) have mixed types. Specify dtype option on import or set low_memory=False.\n",
      "  test  = pd.read_csv(TEST_PATH, parse_dates=[\"Zeitstempel\"])\n"
     ]
    }
   ],
   "source": [
    "import numpy as np\n",
    "import pandas as pd\n",
    "import lightning.pytorch as pl\n",
    "from lightning.pytorch.callbacks import EarlyStopping, LearningRateMonitor\n",
    "from lightning.pytorch.loggers import CSVLogger\n",
    "import torch\n",
    "\n",
    "from pytorch_forecasting import Baseline, TemporalFusionTransformer, TimeSeriesDataSet\n",
    "from pytorch_forecasting.data import GroupNormalizer\n",
    "from pytorch_forecasting.metrics import SMAPE, PoissonLoss, QuantileLoss\n",
    "from pytorch_forecasting.models.temporal_fusion_transformer.tuning import optimize_hyperparameters\n",
    "\n",
    "DATA_PATH = \"TFT_Train.csv\"\n",
    "TEST_PATH = \"TFT_Test.csv\"\n",
    "\n",
    "train = pd.read_csv(DATA_PATH, parse_dates=[\"Zeitstempel\"])\n",
    "test  = pd.read_csv(TEST_PATH, parse_dates=[\"Zeitstempel\"])"
   ]
  },
  {
   "cell_type": "code",
   "execution_count": null,
   "id": "ad3fe587",
   "metadata": {},
   "outputs": [],
   "source": [
    "df = pd.concat([train.assign(split=\"train\"), test.assign(split=\"test\")], ignore_index=True)\n",
    "\n",
    "df[\"meter_id\"] = df[\"location_id\"]\n",
    "\n",
    "for part in (\"month\", \"weekday\", \"hour\"):\n",
    "    df[part] = getattr(df[\"Zeitstempel\"].dt, part).astype(str)\n",
    "\n",
    "df[\"is_holiday\"] = df[\"Ferientyp\"].notna().astype(str)\n",
    "df[\"Ferientyp\"]  = df[\"Ferientyp\"].fillna(\"None\").astype(str)\n",
    "df[\"post_code\"]  = df[\"post_code\"].astype(str)\n",
    "df[\"city\"]       = df[\"city\"].astype(str)\n",
    "\n",
    "cat_cols = [\"city\", \"post_code\", \"Ferientyp\", \"month\", \"weekday\", \"hour\", \"is_holiday\", \"Feiertag\"]\n",
    "for c in cat_cols:\n",
    "    df[c] = pd.Categorical(df[c])               # gemeinsamer Kategorie-Pool\n",
    "\n",
    "static_categoricals            = [\"city\", \"post_code\"]\n",
    "time_varying_known_categoricals = [\"is_holiday\", \"month\", \"weekday\", \"hour\"]\n",
    "time_varying_known_reals        = [\"time_idx\", \"cloud_cover_total\", \"humidity\"]\n",
    "\n",
    "# 2)  Beim Category-Pool Ferientyp ebenfalls weglassen\n",
    "cat_cols = [\"city\", \"post_code\", \"month\", \"weekday\", \"hour\", \"is_holiday\", \"Wochentag_Name\", \"Bundesland\", \"Kreis name\", \"Ferientyp\"]\n",
    "for c in cat_cols:\n",
    "    df[c] = pd.Categorical(df[c])\n",
    "\n",
    "static_reals = [\n",
    "    \"area\", \"Bruttoverdienst\", \"Durchschnittsalter der Bevölkerung\",\n",
    "    \"Erwerbstätige\", \"Kaufkraft\", \"Medianeinkommen\",\n",
    "    \"Neubauwohnungen in Ein- und Zweifamilienhäusern\",\n",
    "    \"Neubauwohnungen je Einwohner\", \"Schuldnerquote\",\n",
    "    \"Siedlungsdichte in km²\"\n",
    "]\n",
    "\n",
    "# fehlende numerische Werte füllen\n",
    "real_fill = [\"cloud_cover_total\", \"humidity\"] + static_reals\n",
    "for col in real_fill:\n",
    "    if col in df.columns:\n",
    "        df[col] = (\n",
    "            df[col]\n",
    "            .ffill()\n",
    "            .bfill()\n",
    "            .fillna(df[col].median())\n",
    "        )\n",
    "\n",
    "df = df.drop(columns=[\"Unnamed: 0\", \"Unnamed: 0.1\", \"Kreis code\", \"Kreis name\"]).drop_duplicates()\n",
    "\n",
    "# Duplikate entfernen\n",
    "# Kategorische Spalten (first)\n",
    "cat_cols = [\n",
    "    'location_id', 'city', 'post_code', 'Datum_Messung', 'Wochentag_Name',\n",
    "    'Feiertag', 'Bundesland', 'Ferientyp', 'split', 'meter_id',\n",
    "    'month', 'weekday', 'hour', 'is_holiday', 'dummy_group'\n",
    "]\n",
    "# Gruppierspalten\n",
    "group_cols = ['location_id', 'Zeitstempel']\n",
    "\n",
    "# Numerische Spalten (mean), außer group_cols\n",
    "num_cols = df.select_dtypes(include='number').columns.difference(group_cols)\n",
    "\n",
    "# Aggregations-Logik\n",
    "agg_dict = {col: 'first' for col in cat_cols if col in df.columns}\n",
    "agg_dict.update({col: 'mean' for col in num_cols if col in df.columns})\n",
    "\n",
    "# Gruppierung durchführen\n",
    "df = (\n",
    "    df.groupby(group_cols, as_index=False)\n",
    "      .agg(agg_dict)\n",
    ")\n",
    "\n",
    "\n",
    "unique_times = pd.Series(df[\"Zeitstempel\"].unique()).sort_values().reset_index(drop=True)\n",
    "time_map = {time: idx for idx, time in enumerate(unique_times)}\n",
    "df[\"time_idx\"] = df[\"Zeitstempel\"].map(time_map)\n",
    "\n",
    "train = df[df.split == \"train\"].drop(columns=\"split\")\n",
    "test  = df[df.split == \"test\"].drop(columns=\"split\")"
   ]
  },
  {
   "cell_type": "code",
   "execution_count": 42,
   "id": "53fe3771",
   "metadata": {},
   "outputs": [],
   "source": [
    "max_prediction_length = 24\n",
    "max_encoder_length = 72\n",
    "training_cutoff = df[\"time_idx\"].max() - max_prediction_length\n",
    "\n",
    "training = TimeSeriesDataSet(\n",
    "    df[df.time_idx <= training_cutoff],\n",
    "    time_idx=\"time_idx\",\n",
    "    target=\"Messwert\",\n",
    "    group_ids=[\"meter_id\"],\n",
    "    static_categoricals=static_categoricals,\n",
    "    static_reals=static_reals,\n",
    "    time_varying_known_categoricals=time_varying_known_categoricals,\n",
    "    time_varying_known_reals=time_varying_known_reals,\n",
    "    time_varying_unknown_reals      = [\"Messwert\"],\n",
    "    max_encoder_length=max_encoder_length,\n",
    "    max_prediction_length=max_prediction_length,\n",
    "    min_encoder_length=max_encoder_length // 2,  # keep encoder length long (as it is in the validation set)\n",
    "    min_prediction_length=1,\n",
    "    target_normalizer=GroupNormalizer(\n",
    "        groups=[\"meter_id\"], transformation=\"softplus\"\n",
    "    ),  # use softplus and normalize by group\n",
    "    time_varying_unknown_categoricals=[],\n",
    "    allow_missing_timesteps=True,\n",
    "    add_relative_time_idx=True,\n",
    "    add_encoder_length=True,\n",
    "    add_target_scales=True,\n",
    ")\n",
    "\n",
    "# create validation set (predict=True) which means to predict the last max_prediction_length points in time\n",
    "# for each series\n",
    "validation = TimeSeriesDataSet.from_dataset(training, df, predict=True, stop_randomization=True)\n",
    "\n",
    "# create dataloaders for model\n",
    "batch_size = 128  # set this between 32 to 128\n",
    "train_dataloader = training.to_dataloader(train=True, batch_size=batch_size, num_workers=6, persistent_workers=True)\n",
    "val_dataloader = validation.to_dataloader(train=False, batch_size=batch_size * 10, num_workers=0)"
   ]
  },
  {
   "cell_type": "code",
   "execution_count": 43,
   "id": "42ad2f7e",
   "metadata": {},
   "outputs": [
    {
     "name": "stderr",
     "output_type": "stream",
     "text": [
      "c:\\Users\\jonas\\AppData\\Local\\Programs\\Python\\Python313\\Lib\\site-packages\\lightning\\pytorch\\utilities\\parsing.py:209: Attribute 'loss' is an instance of `nn.Module` and is already saved during checkpointing. It is recommended to ignore them using `self.save_hyperparameters(ignore=['loss'])`.\n",
      "c:\\Users\\jonas\\AppData\\Local\\Programs\\Python\\Python313\\Lib\\site-packages\\lightning\\pytorch\\utilities\\parsing.py:209: Attribute 'logging_metrics' is an instance of `nn.Module` and is already saved during checkpointing. It is recommended to ignore them using `self.save_hyperparameters(ignore=['logging_metrics'])`.\n",
      "💡 Tip: For seamless cloud uploads and versioning, try installing [litmodels](https://pypi.org/project/litmodels/) to enable LitModelCheckpoint, which syncs automatically with the Lightning model registry.\n",
      "GPU available: False, used: False\n",
      "TPU available: False, using: 0 TPU cores\n",
      "HPU available: False, using: 0 HPUs\n",
      "c:\\Users\\jonas\\AppData\\Local\\Programs\\Python\\Python313\\Lib\\site-packages\\lightning\\pytorch\\trainer\\connectors\\data_connector.py:425: The 'predict_dataloader' does not have many workers which may be a bottleneck. Consider increasing the value of the `num_workers` argument` to `num_workers=11` in the `DataLoader` to improve performance.\n"
     ]
    },
    {
     "data": {
      "text/plain": [
       "0.14226211607456207"
      ]
     },
     "execution_count": 43,
     "metadata": {},
     "output_type": "execute_result"
    }
   ],
   "source": [
    "# calculate baseline mean absolute error, i.e. predict next value as the last available value from the history\n",
    "actuals = torch.cat([y for x, (y, weight) in iter(val_dataloader)])\n",
    "baseline_predictions = Baseline().predict(val_dataloader)\n",
    "(actuals - baseline_predictions).abs().mean().item()"
   ]
  },
  {
   "cell_type": "code",
   "execution_count": null,
   "id": "b133cea8",
   "metadata": {},
   "outputs": [
    {
     "name": "stderr",
     "output_type": "stream",
     "text": [
      "Seed set to 42\n",
      "💡 Tip: For seamless cloud uploads and versioning, try installing [litmodels](https://pypi.org/project/litmodels/) to enable LitModelCheckpoint, which syncs automatically with the Lightning model registry.\n",
      "GPU available: False, used: False\n",
      "TPU available: False, using: 0 TPU cores\n",
      "HPU available: False, using: 0 HPUs\n"
     ]
    },
    {
     "name": "stdout",
     "output_type": "stream",
     "text": [
      "Number of parameters in network: 123.2k\n"
     ]
    },
    {
     "name": "stderr",
     "output_type": "stream",
     "text": [
      "c:\\Users\\jonas\\AppData\\Local\\Programs\\Python\\Python313\\Lib\\site-packages\\lightning\\pytorch\\utilities\\parsing.py:209: Attribute 'loss' is an instance of `nn.Module` and is already saved during checkpointing. It is recommended to ignore them using `self.save_hyperparameters(ignore=['loss'])`.\n",
      "c:\\Users\\jonas\\AppData\\Local\\Programs\\Python\\Python313\\Lib\\site-packages\\lightning\\pytorch\\utilities\\parsing.py:209: Attribute 'logging_metrics' is an instance of `nn.Module` and is already saved during checkpointing. It is recommended to ignore them using `self.save_hyperparameters(ignore=['logging_metrics'])`.\n"
     ]
    }
   ],
   "source": [
    "# configure network and trainer\n",
    "pl.seed_everything(42)\n",
    "early_stop_callback = EarlyStopping(monitor=\"val_loss\", min_delta=1e-5, patience=10, verbose=False, mode=\"min\")\n",
    "lr_logger = LearningRateMonitor(\"epoch\")  # log the learning rate\n",
    "logger = CSVLogger(\"logs_csv\")  # logging results to a csv file (tensorboard not compatible with python 3.13)\n",
    "\n",
    "trainer = pl.Trainer(\n",
    "    max_epochs=50,\n",
    "    precision='64',\n",
    "    devices=\"auto\",\n",
    "    # weights_summary=\"top\",\n",
    "    gradient_clip_val=0.1,\n",
    "    limit_train_batches=30,  # comment in for training, running validation every 30 batches\n",
    "    # fast_dev_run=True,  # comment in to check that networkor dataset has no serious bugs\n",
    "    callbacks=[lr_logger, early_stop_callback],\n",
    "    logger=logger,\n",
    ")\n",
    "\n",
    "\n",
    "tft = TemporalFusionTransformer.from_dataset(\n",
    "    training,\n",
    "    learning_rate=0.0001,\n",
    "    hidden_size=32,\n",
    "    attention_head_size=4,\n",
    "    lstm_layers=2,\n",
    "    dropout=0.2,\n",
    "    hidden_continuous_size=16,\n",
    "    optimizer=\"adam\",\n",
    "    output_size=7,  # 7 quantiles by default\n",
    "    loss=QuantileLoss(),\n",
    "    # max_encoder_length = max_encoder_length,\n",
    "    log_interval=1,  # uncomment for learning rate finder and otherwise, e.g. to 10 for logging every 10 batches\n",
    "    reduce_on_plateau_patience=4,\n",
    ")\n",
    "print(f\"Number of parameters in network: {tft.size()/1e3:.1f}k\")"
   ]
  },
  {
   "cell_type": "code",
   "execution_count": 52,
   "id": "51cacab8",
   "metadata": {},
   "outputs": [
    {
     "name": "stderr",
     "output_type": "stream",
     "text": [
      "\n",
      "   | Name                               | Type                            | Params | Mode \n",
      "------------------------------------------------------------------------------------------------\n",
      "0  | loss                               | QuantileLoss                    | 0      | train\n",
      "1  | logging_metrics                    | ModuleList                      | 0      | train\n",
      "2  | input_embeddings                   | MultiEmbedding                  | 5.0 K  | train\n",
      "3  | prescalers                         | ModuleDict                      | 576    | train\n",
      "4  | static_variable_selection          | VariableSelectionNetwork        | 28.5 K | train\n",
      "5  | encoder_variable_selection         | VariableSelectionNetwork        | 11.0 K | train\n",
      "6  | decoder_variable_selection         | VariableSelectionNetwork        | 8.9 K  | train\n",
      "7  | static_context_variable_selection  | GatedResidualNetwork            | 4.3 K  | train\n",
      "8  | static_context_initial_hidden_lstm | GatedResidualNetwork            | 4.3 K  | train\n",
      "9  | static_context_initial_cell_lstm   | GatedResidualNetwork            | 4.3 K  | train\n",
      "10 | static_context_enrichment          | GatedResidualNetwork            | 4.3 K  | train\n",
      "11 | lstm_encoder                       | LSTM                            | 16.9 K | train\n",
      "12 | lstm_decoder                       | LSTM                            | 16.9 K | train\n",
      "13 | post_lstm_gate_encoder             | GatedLinearUnit                 | 2.1 K  | train\n",
      "14 | post_lstm_add_norm_encoder         | AddNorm                         | 64     | train\n",
      "15 | static_enrichment                  | GatedResidualNetwork            | 5.3 K  | train\n",
      "16 | multihead_attn                     | InterpretableMultiHeadAttention | 2.6 K  | train\n",
      "17 | post_attn_gate_norm                | GateAddNorm                     | 2.2 K  | train\n",
      "18 | pos_wise_ff                        | GatedResidualNetwork            | 4.3 K  | train\n",
      "19 | pre_output_gate_norm               | GateAddNorm                     | 2.2 K  | train\n",
      "20 | output_layer                       | Linear                          | 231    | train\n",
      "------------------------------------------------------------------------------------------------\n",
      "123 K     Trainable params\n",
      "0         Non-trainable params\n",
      "123 K     Total params\n",
      "0.493     Total estimated model params size (MB)\n",
      "533       Modules in train mode\n",
      "0         Modules in eval mode\n"
     ]
    },
    {
     "name": "stdout",
     "output_type": "stream",
     "text": [
      "Sanity Checking DataLoader 0:   0%|          | 0/1 [00:00<?, ?it/s]"
     ]
    },
    {
     "name": "stderr",
     "output_type": "stream",
     "text": [
      "c:\\Users\\jonas\\AppData\\Local\\Programs\\Python\\Python313\\Lib\\site-packages\\lightning\\pytorch\\trainer\\connectors\\data_connector.py:425: The 'val_dataloader' does not have many workers which may be a bottleneck. Consider increasing the value of the `num_workers` argument` to `num_workers=11` in the `DataLoader` to improve performance.\n"
     ]
    },
    {
     "name": "stdout",
     "output_type": "stream",
     "text": [
      "                                                                           \r"
     ]
    },
    {
     "name": "stderr",
     "output_type": "stream",
     "text": [
      "c:\\Users\\jonas\\AppData\\Local\\Programs\\Python\\Python313\\Lib\\site-packages\\lightning\\pytorch\\loops\\fit_loop.py:310: The number of training batches (30) is smaller than the logging interval Trainer(log_every_n_steps=50). Set a lower value for log_every_n_steps if you want to see logs for the training epoch.\n"
     ]
    },
    {
     "name": "stdout",
     "output_type": "stream",
     "text": [
      "Epoch 49: 100%|██████████| 30/30 [00:25<00:00,  1.18it/s, v_num=18, train_loss_step=0.0447, val_loss=0.0646, train_loss_epoch=0.047] "
     ]
    },
    {
     "name": "stderr",
     "output_type": "stream",
     "text": [
      "`Trainer.fit` stopped: `max_epochs=50` reached.\n"
     ]
    },
    {
     "name": "stdout",
     "output_type": "stream",
     "text": [
      "Epoch 49: 100%|██████████| 30/30 [00:25<00:00,  1.18it/s, v_num=18, train_loss_step=0.0447, val_loss=0.0646, train_loss_epoch=0.047]\n"
     ]
    }
   ],
   "source": [
    "# fit network\n",
    "trainer.fit(\n",
    "    tft,\n",
    "    train_dataloaders=train_dataloader,\n",
    "    val_dataloaders=val_dataloader\n",
    ")"
   ]
  },
  {
   "cell_type": "code",
   "execution_count": null,
   "id": "46c8593d",
   "metadata": {},
   "outputs": [
    {
     "name": "stderr",
     "output_type": "stream",
     "text": [
      "`Trainer.fit` stopped: `max_epochs=50` reached.\n",
      "LR finder stopped early after 1500 steps due to diverging loss.\n",
      "Restoring states from the checkpoint path at c:\\Users\\jonas\\Desktop\\Studium\\Master\\SS 2025\\Anwendungsfelder Business Analytics\\.lr_find_884e6139-28c7-40f8-9b37-c4a272542ba6.ckpt\n",
      "Restored all states from the checkpoint at c:\\Users\\jonas\\Desktop\\Studium\\Master\\SS 2025\\Anwendungsfelder Business Analytics\\.lr_find_884e6139-28c7-40f8-9b37-c4a272542ba6.ckpt\n",
      "Failed to compute suggestion for learning rate because there are not enough points. Increase the loop iteration limits or the size of your dataset/dataloader.\n",
      "Failed to compute suggestion for learning rate because there are not enough points. Increase the loop iteration limits or the size of your dataset/dataloader.\n"
     ]
    },
    {
     "name": "stdout",
     "output_type": "stream",
     "text": [
      "suggested learning rate: None\n"
     ]
    },
    {
     "data": {
      "image/png": "[encoded data removed]",
      "text/plain": [
       "<Figure size 640x480 with 1 Axes>"
      ]
     },
     "metadata": {},
     "output_type": "display_data"
    },
    {
     "name": "stderr",
     "output_type": "stream",
     "text": [
      "C:\\Users\\jonas\\AppData\\Local\\Temp\\ipykernel_15992\\3339402291.py:14: UserWarning: FigureCanvasAgg is non-interactive, and thus cannot be shown\n",
      "  fig.show()\n"
     ]
    }
   ],
   "source": [
    "from pytorch_lightning.tuner.lr_finder import _lr_find\n",
    "\n",
    "# find optimal learning rate\n",
    "res = _lr_find(\n",
    "    model=tft,\n",
    "    trainer=trainer,\n",
    "    max_lr=10.0,\n",
    "    min_lr=1e-6,\n",
    "    num_training=100\n",
    ")\n",
    "\n",
    "print(f\"suggested learning rate: {res.suggestion()}\")\n",
    "fig = res.plot(show=True, suggest=True)\n",
    "fig.show()"
   ]
  }
 ],
 "metadata": {
  "kernelspec": {
   "display_name": "Python 3",
   "language": "python",
   "name": "python3"
  },
  "language_info": {
   "codemirror_mode": {
    "name": "ipython",
    "version": 3
   },
   "file_extension": ".py",
   "mimetype": "text/x-python",
   "name": "python",
   "nbconvert_exporter": "python",
   "pygments_lexer": "ipython3",
   "version": "3.13.2"
  }
 },
 "nbformat": 4,
 "nbformat_minor": 5
}
