{
 "cells": [
  {
   "cell_type": "code",
   "execution_count": 1,
   "id": "5ddd9841",
   "metadata": {},
   "outputs": [
    {
     "name": "stderr",
     "output_type": "stream",
     "text": [
      "/Users/maxi/Documents/GitHub/OpenMeter_Analysis/Venv_OpenMeter/lib/python3.11/site-packages/lightning/fabric/__init__.py:40: pkg_resources is deprecated as an API. See https://setuptools.pypa.io/en/latest/pkg_resources.html. The pkg_resources package is slated for removal as early as 2025-11-30. Refrain from using this package or pin to Setuptools<81.\n"
     ]
    }
   ],
   "source": [
    "import pandas as pd, torch\n",
    "\n",
    "from pytorch_forecasting import TimeSeriesDataSet, TemporalFusionTransformer, QuantileLoss\n",
    "from pytorch_forecasting.data import GroupNormalizer\n",
    "from lightning.pytorch import Trainer, seed_everything\n",
    "from lightning.pytorch.callbacks import EarlyStopping, LearningRateMonitor\n",
    "from sklearn.metrics import mean_absolute_error, mean_squared_error"
   ]
  },
  {
   "cell_type": "code",
   "execution_count": 2,
   "id": "fe73b6c2",
   "metadata": {},
   "outputs": [
    {
     "name": "stderr",
     "output_type": "stream",
     "text": [
      "/var/folders/c0/bb24fmsx45vgrsz0nl893g940000gn/T/ipykernel_2313/489462558.py:4: DtypeWarning: Columns (19,20,39) have mixed types. Specify dtype option on import or set low_memory=False.\n",
      "  train = pd.read_csv(DATA_PATH, nrows=50_000, parse_dates=[\"Zeitstempel\"])\n"
     ]
    }
   ],
   "source": [
    "DATA_PATH = \"/Users/maxi/Desktop/train_data.csv\"\n",
    "TEST_PATH = \"/Users/maxi/Desktop/test_data.csv\"\n",
    "\n",
    "train = pd.read_csv(DATA_PATH, nrows=50_000, parse_dates=[\"Zeitstempel\"])\n",
    "test  = pd.read_csv(TEST_PATH,  nrows=10_000, parse_dates=[\"Zeitstempel\"])"
   ]
  },
  {
   "cell_type": "code",
   "execution_count": 3,
   "id": "bffef9e0",
   "metadata": {},
   "outputs": [],
   "source": [
    "df = pd.concat([train.assign(split=\"train\"), test.assign(split=\"test\")])\n",
    "df[\"meter_id\"] = df[\"location_id\"]\n",
    "\n",
    "origin = df[\"Zeitstempel\"].min()\n",
    "df[\"time_idx\"] = ((df[\"Zeitstempel\"] - origin).dt.total_seconds() // 3600).astype(int)\n",
    "\n",
    "for col in (\"month\",\"weekday\",\"hour\"):\n",
    "    df[col] = getattr(df[\"Zeitstempel\"].dt, col).astype(str)\n",
    "\n",
    "df[\"is_holiday\"] = df[\"Ferientyp\"].notna().astype(str)\n",
    "df[\"Ferientyp\"]  = df[\"Ferientyp\"].fillna(\"None\").astype(str)\n",
    "df[\"post_code\"]  = df[\"post_code\"].astype(str)\n",
    "df[\"city\"]       = df[\"city\"].astype(str)\n",
    "\n",
    "train = df[df.split==\"train\"].drop(columns=\"split\")\n",
    "test  = df[df.split==\"test\"].drop(columns=\"split\")"
   ]
  },
  {
   "cell_type": "code",
   "execution_count": 4,
   "id": "52ecba65",
   "metadata": {},
   "outputs": [],
   "source": [
    "ENC_LEN, PRED_LEN = 72, 24\n",
    "training = TimeSeriesDataSet(\n",
    "    train,\n",
    "    time_idx=\"time_idx\",\n",
    "    target=\"Messwert\",\n",
    "    group_ids=[\"meter_id\"],\n",
    "    static_categoricals=[\"city\",\"post_code\"],\n",
    "    time_varying_known_categoricals=[\"month\",\"weekday\",\"hour\",\"is_holiday\",\"Ferientyp\"],\n",
    "    time_varying_known_reals=[\"time_idx\"],\n",
    "    time_varying_unknown_reals=[\"Messwert\"],\n",
    "    max_encoder_length=ENC_LEN,\n",
    "    max_prediction_length=PRED_LEN,\n",
    "    target_normalizer=GroupNormalizer(groups=[\"meter_id\"]),\n",
    "    allow_missing_timesteps=True,\n",
    ")\n",
    "\n",
    "batch = 64\n",
    "train_dl = training.to_dataloader(train=True, batch_size=batch, num_workers=2, persistent_workers=True)\n",
    "val_dl   = training.to_dataloader(train=False,batch_size=batch, num_workers=2, persistent_workers=True)"
   ]
  },
  {
   "cell_type": "code",
   "execution_count": null,
   "id": "26801854",
   "metadata": {},
   "outputs": [
    {
     "name": "stderr",
     "output_type": "stream",
     "text": [
      "Seed set to 42\n",
      "GPU available: True (mps), used: True\n",
      "TPU available: False, using: 0 TPU cores\n",
      "IPU available: False, using: 0 IPUs\n",
      "HPU available: False, using: 0 HPUs\n",
      "/Users/maxi/Documents/GitHub/OpenMeter_Analysis/Venv_OpenMeter/lib/python3.11/site-packages/lightning/pytorch/trainer/connectors/logger_connector/logger_connector.py:67: Starting from v1.9.0, `tensorboardX` has been removed as a dependency of the `lightning.pytorch` package, due to potential conflicts with other packages in the ML ecosystem. For this reason, `logger=True` will use `CSVLogger` as the default logger, unless the `tensorboard` or `tensorboardX` packages are found. Please `pip install lightning[extra]` or one of them to enable TensorBoard support by default\n",
      "\n",
      "   | Name                               | Type                            | Params\n",
      "----------------------------------------------------------------------------------------\n",
      "0  | loss                               | QuantileLoss                    | 0     \n",
      "1  | logging_metrics                    | ModuleList                      | 0     \n",
      "2  | input_embeddings                   | MultiEmbedding                  | 679   \n",
      "3  | prescalers                         | ModuleDict                      | 32    \n",
      "4  | static_variable_selection          | VariableSelectionNetwork        | 162   \n",
      "5  | encoder_variable_selection         | VariableSelectionNetwork        | 1.8 K \n",
      "6  | decoder_variable_selection         | VariableSelectionNetwork        | 1.2 K \n",
      "7  | static_context_variable_selection  | GatedResidualNetwork            | 1.1 K \n",
      "8  | static_context_initial_hidden_lstm | GatedResidualNetwork            | 1.1 K \n",
      "9  | static_context_initial_cell_lstm   | GatedResidualNetwork            | 1.1 K \n",
      "10 | static_context_enrichment          | GatedResidualNetwork            | 1.1 K \n",
      "11 | lstm_encoder                       | LSTM                            | 2.2 K \n",
      "12 | lstm_decoder                       | LSTM                            | 2.2 K \n",
      "13 | post_lstm_gate_encoder             | GatedLinearUnit                 | 544   \n",
      "14 | post_lstm_add_norm_encoder         | AddNorm                         | 32    \n",
      "15 | static_enrichment                  | GatedResidualNetwork            | 1.4 K \n",
      "16 | multihead_attn                     | InterpretableMultiHeadAttention | 808   \n",
      "17 | post_attn_gate_norm                | GateAddNorm                     | 576   \n",
      "18 | pos_wise_ff                        | GatedResidualNetwork            | 1.1 K \n",
      "19 | pre_output_gate_norm               | GateAddNorm                     | 576   \n",
      "20 | output_layer                       | Linear                          | 119   \n",
      "----------------------------------------------------------------------------------------\n",
      "17.8 K    Trainable params\n",
      "0         Non-trainable params\n",
      "17.8 K    Total params\n",
      "0.071     Total estimated model params size (MB)\n"
     ]
    },
    {
     "data": {
      "application/vnd.jupyter.widget-view+json": {
       "model_id": "281e1b48e28e4a53a1c8b5a22e3e431b",
       "version_major": 2,
       "version_minor": 0
      },
      "text/plain": [
       "Sanity Checking: |          | 0/? [00:00<?, ?it/s]"
      ]
     },
     "metadata": {},
     "output_type": "display_data"
    },
    {
     "name": "stderr",
     "output_type": "stream",
     "text": [
      "/Users/maxi/Documents/GitHub/OpenMeter_Analysis/Venv_OpenMeter/lib/python3.11/site-packages/lightning/fabric/__init__.py:40: pkg_resources is deprecated as an API. See https://setuptools.pypa.io/en/latest/pkg_resources.html. The pkg_resources package is slated for removal as early as 2025-11-30. Refrain from using this package or pin to Setuptools<81.\n",
      "/Users/maxi/Documents/GitHub/OpenMeter_Analysis/Venv_OpenMeter/lib/python3.11/site-packages/lightning/fabric/__init__.py:40: pkg_resources is deprecated as an API. See https://setuptools.pypa.io/en/latest/pkg_resources.html. The pkg_resources package is slated for removal as early as 2025-11-30. Refrain from using this package or pin to Setuptools<81.\n",
      "/Users/maxi/Documents/GitHub/OpenMeter_Analysis/Venv_OpenMeter/lib/python3.11/site-packages/lightning/fabric/__init__.py:40: pkg_resources is deprecated as an API. See https://setuptools.pypa.io/en/latest/pkg_resources.html. The pkg_resources package is slated for removal as early as 2025-11-30. Refrain from using this package or pin to Setuptools<81.\n",
      "/Users/maxi/Documents/GitHub/OpenMeter_Analysis/Venv_OpenMeter/lib/python3.11/site-packages/lightning/fabric/__init__.py:40: pkg_resources is deprecated as an API. See https://setuptools.pypa.io/en/latest/pkg_resources.html. The pkg_resources package is slated for removal as early as 2025-11-30. Refrain from using this package or pin to Setuptools<81.\n"
     ]
    },
    {
     "data": {
      "application/vnd.jupyter.widget-view+json": {
       "model_id": "a13845738a634966a0e76bd7efbf8549",
       "version_major": 2,
       "version_minor": 0
      },
      "text/plain": [
       "Training: |          | 0/? [00:00<?, ?it/s]"
      ]
     },
     "metadata": {},
     "output_type": "display_data"
    }
   ],
   "source": [
    "from lightning.pytorch.callbacks import EarlyStopping, LearningRateMonitor\n",
    "\n",
    "seed_everything(42)\n",
    "\n",
    "tft = TemporalFusionTransformer.from_dataset(\n",
    "    training,\n",
    "    hidden_size=16,\n",
    "    attention_head_size=2,\n",
    "    hidden_continuous_size=8,\n",
    "    dropout=0.2,\n",
    "    learning_rate=0.001,\n",
    "    loss=QuantileLoss(),\n",
    ")\n",
    "\n",
    "early_stop = EarlyStopping(\n",
    "    monitor=\"val_loss\",   # <- überwachte Metrik\n",
    "    patience=3,\n",
    "    mode=\"min\",\n",
    "    verbose=True,\n",
    ")\n",
    "\n",
    "trainer = Trainer(\n",
    "    max_epochs        = 30,\n",
    "    accelerator       = \"auto\",  \n",
    "    devices           = 1,\n",
    "    precision         = 32,\n",
    "    gradient_clip_val = 0.1,\n",
    "    callbacks         = [early_stop, LearningRateMonitor(\"epoch\")],\n",
    ")\n",
    "\n",
    "trainer.fit(tft, train_dataloaders=train_dl, val_dataloaders=val_dl)"
   ]
  },
  {
   "cell_type": "code",
   "execution_count": null,
   "id": "7313dadb",
   "metadata": {},
   "outputs": [],
   "source": [
    "test_ds  = TimeSeriesDataSet.from_dataset(training, test, stop_randomization=True)\n",
    "test_dl  = test_ds.to_dataloader(train=False, batch_size=batch)\n",
    "pred, ix = tft.predict(test_dl, mode=\"prediction\", return_index=True)\n",
    "y_true   = test.iloc[ix][\"Messwert\"].to_numpy()\n",
    "\n",
    "print(\"MAE :\", mean_absolute_error(y_true, pred))\n",
    "print(\"RMSE:\", mean_squared_error(y_true, pred, squared=False))"
   ]
  },
  {
   "cell_type": "code",
   "execution_count": null,
   "id": "022c2560",
   "metadata": {},
   "outputs": [],
   "source": [
    "trainer.save_checkpoint(\"/content/tft_stromverbrauch.ckpt\")\n",
    "print(\"Checkpoint gespeichert.\")"
   ]
  },
  {
   "cell_type": "code",
   "execution_count": null,
   "id": "ea53dc2c",
   "metadata": {},
   "outputs": [],
   "source": []
  }
 ],
 "metadata": {
  "kernelspec": {
   "display_name": "Python 3",
   "language": "python",
   "name": "python3"
  },
  "language_info": {
   "codemirror_mode": {
    "name": "ipython",
    "version": 3
   },
   "file_extension": ".py",
   "mimetype": "text/x-python",
   "name": "python",
   "nbconvert_exporter": "python",
   "pygments_lexer": "ipython3",
   "version": "3.11.8"
  }
 },
 "nbformat": 4,
 "nbformat_minor": 5
}
