{
 "cells": [
  {
   "cell_type": "code",
   "execution_count": 1,
   "id": "7d19f534",
   "metadata": {},
   "outputs": [
    {
     "name": "stderr",
     "output_type": "stream",
     "text": [
      "/Users/maxi/Documents/GitHub/OpenMeter_Analysis/Venv_OpenMeter/lib/python3.11/site-packages/lightning/fabric/__init__.py:40: pkg_resources is deprecated as an API. See https://setuptools.pypa.io/en/latest/pkg_resources.html. The pkg_resources package is slated for removal as early as 2025-11-30. Refrain from using this package or pin to Setuptools<81.\n",
      "/var/folders/c0/bb24fmsx45vgrsz0nl893g940000gn/T/ipykernel_19972/3469607359.py:12: DtypeWarning: Columns (19,20,39) have mixed types. Specify dtype option on import or set low_memory=False.\n",
      "  train = pd.read_csv(DATA_PATH, nrows=80_000, parse_dates=[\"Zeitstempel\"])\n",
      "Seed set to 42\n"
     ]
    },
    {
     "data": {
      "text/plain": [
       "42"
      ]
     },
     "execution_count": 1,
     "metadata": {},
     "output_type": "execute_result"
    }
   ],
   "source": [
    "import pandas as pd, torch, os\n",
    "from lightning.pytorch import Trainer, seed_everything\n",
    "from lightning.pytorch.callbacks import EarlyStopping, LearningRateMonitor\n",
    "from lightning.pytorch.loggers import CSVLogger\n",
    "from pytorch_forecasting import TimeSeriesDataSet, TemporalFusionTransformer, QuantileLoss\n",
    "from pytorch_forecasting.data import GroupNormalizer\n",
    "from sklearn.metrics import mean_absolute_error, mean_squared_error\n",
    "\n",
    "DATA_PATH = \"/Users/maxi/Desktop/train_data.csv\"\n",
    "TEST_PATH = \"/Users/maxi/Desktop/test_data.csv\"\n",
    "\n",
    "train = pd.read_csv(DATA_PATH, nrows=80_000, parse_dates=[\"Zeitstempel\"])\n",
    "test  = pd.read_csv(TEST_PATH,  nrows=20_000, parse_dates=[\"Zeitstempel\"])\n",
    "\n",
    "seed_everything(42, workers=True)"
   ]
  },
  {
   "cell_type": "code",
   "execution_count": 2,
   "id": "57b14a02",
   "metadata": {},
   "outputs": [],
   "source": [
    "df = pd.concat([train.assign(split=\"train\"), test.assign(split=\"test\")], ignore_index=True)\n",
    "\n",
    "df[\"meter_id\"] = df[\"location_id\"]\n",
    "\n",
    "origin = df[\"Zeitstempel\"].min()\n",
    "df[\"time_idx\"] = ((df[\"Zeitstempel\"] - origin).dt.total_seconds() // 3600).astype(int)\n",
    "\n",
    "for part in (\"month\", \"weekday\", \"hour\"):\n",
    "    df[part] = getattr(df[\"Zeitstempel\"].dt, part).astype(str)\n",
    "\n",
    "df[\"is_holiday\"] = df[\"Ferientyp\"].notna().astype(str)\n",
    "df[\"Ferientyp\"]  = df[\"Ferientyp\"].fillna(\"None\").astype(str)\n",
    "df[\"post_code\"]  = df[\"post_code\"].astype(str)\n",
    "df[\"city\"]       = df[\"city\"].astype(str)\n",
    "\n",
    "cat_cols = [\"city\", \"post_code\", \"Ferientyp\", \"month\", \"weekday\", \"hour\", \"is_holiday\"]\n",
    "for c in cat_cols:\n",
    "    df[c] = pd.Categorical(df[c])               # gemeinsamer Kategorie-Pool\n",
    "\n",
    "static_reals = [\n",
    "    \"area\", \"Bruttoverdienst\", \"Durchschnittsalter der Bevölkerung\",\n",
    "    \"Erwerbstätige\", \"Kaufkraft\", \"Medianeinkommen\",\n",
    "    \"Neubauwohnungen in Ein- und Zweifamilienhäusern\",\n",
    "    \"Neubauwohnungen je Einwohner\", \"Schuldnerquote\",\n",
    "    \"Siedlungsdichte in km²\"\n",
    "]\n",
    "\n",
    "# fehlende numerische Werte füllen\n",
    "real_fill = [\"cloud_cover_total\", \"humidity\"] + static_reals\n",
    "for col in real_fill:\n",
    "    if col in df.columns:\n",
    "        df[col] = (\n",
    "            df[col]\n",
    "            .fillna(method=\"ffill\")\n",
    "            .fillna(method=\"bfill\")\n",
    "            .fillna(df[col].median())\n",
    "        )\n",
    "\n",
    "train = df[df.split == \"train\"].drop(columns=\"split\")\n",
    "test  = df[df.split == \"test\"].drop(columns=\"split\")"
   ]
  },
  {
   "cell_type": "code",
   "execution_count": 3,
   "id": "d0e18c79",
   "metadata": {},
   "outputs": [],
   "source": [
    "ENC_LEN, PRED_LEN = 72, 24\n",
    "\n",
    "static_categoricals            = [\"city\", \"post_code\"]\n",
    "time_varying_known_categoricals = [\"is_holiday\"]          #  Ferientyp raus\n",
    "time_varying_known_reals        = [\"time_idx\", \"month\", \"weekday\", \"hour\",\n",
    "                                   \"cloud_cover_total\", \"humidity\"]\n",
    "\n",
    "# 2)  Beim Category-Pool Ferientyp ebenfalls weglassen\n",
    "cat_cols = [\"city\", \"post_code\", \"month\", \"weekday\", \"hour\", \"is_holiday\"]\n",
    "for c in cat_cols:\n",
    "    df[c] = pd.Categorical(df[c])\n",
    "\n",
    "training = TimeSeriesDataSet(\n",
    "    train,\n",
    "    time_idx=\"time_idx\",\n",
    "    target=\"Messwert\",\n",
    "    group_ids=[\"meter_id\"],\n",
    "    static_categoricals           = static_categoricals,\n",
    "    static_reals                  = static_reals,\n",
    "    time_varying_known_categoricals = time_varying_known_categoricals,\n",
    "    time_varying_known_reals        = time_varying_known_reals,\n",
    "    time_varying_unknown_reals      = [\"Messwert\"],\n",
    "    max_encoder_length  = ENC_LEN,\n",
    "    max_prediction_length = PRED_LEN,\n",
    "    target_normalizer   = GroupNormalizer(groups=[\"meter_id\"]),\n",
    "    allow_missing_timesteps=True,\n",
    ")\n",
    "# Validation-Split = letztes Fenster des Train-Sets\n",
    "val_ds = TimeSeriesDataSet.from_dataset(\n",
    "    training, train, min_prediction_idx=train[\"time_idx\"].max() - PRED_LEN + 1\n",
    ")\n",
    "\n",
    "test_ds = TimeSeriesDataSet.from_dataset(training, test, stop_randomization=True)\n",
    "\n",
    "batch = 128\n",
    "train_dl = training.to_dataloader(train=True,  batch_size=batch, num_workers=10, shuffle=True)\n",
    "val_dl   = val_ds.to_dataloader(train=False, batch_size=batch, num_workers=10)\n",
    "test_dl  = test_ds.to_dataloader(train=False, batch_size=batch, num_workers=10)"
   ]
  },
  {
   "cell_type": "code",
   "execution_count": null,
   "id": "02ba5436",
   "metadata": {},
   "outputs": [
    {
     "name": "stderr",
     "output_type": "stream",
     "text": [
      "/Users/maxi/Documents/GitHub/OpenMeter_Analysis/Venv_OpenMeter/lib/python3.11/site-packages/lightning/pytorch/utilities/parsing.py:198: Attribute 'loss' is an instance of `nn.Module` and is already saved during checkpointing. It is recommended to ignore them using `self.save_hyperparameters(ignore=['loss'])`.\n",
      "/Users/maxi/Documents/GitHub/OpenMeter_Analysis/Venv_OpenMeter/lib/python3.11/site-packages/lightning/pytorch/utilities/parsing.py:198: Attribute 'logging_metrics' is an instance of `nn.Module` and is already saved during checkpointing. It is recommended to ignore them using `self.save_hyperparameters(ignore=['logging_metrics'])`.\n",
      "GPU available: True (mps), used: True\n",
      "TPU available: False, using: 0 TPU cores\n",
      "IPU available: False, using: 0 IPUs\n",
      "HPU available: False, using: 0 HPUs\n",
      "\n",
      "   | Name                               | Type                            | Params\n",
      "----------------------------------------------------------------------------------------\n",
      "0  | loss                               | QuantileLoss                    | 0     \n",
      "1  | logging_metrics                    | ModuleList                      | 0     \n",
      "2  | input_embeddings                   | MultiEmbedding                  | 425   \n",
      "3  | prescalers                         | ModuleDict                      | 272   \n",
      "4  | static_variable_selection          | VariableSelectionNetwork        | 7.1 K \n",
      "5  | encoder_variable_selection         | VariableSelectionNetwork        | 4.6 K \n",
      "6  | decoder_variable_selection         | VariableSelectionNetwork        | 3.9 K \n",
      "7  | static_context_variable_selection  | GatedResidualNetwork            | 1.1 K \n",
      "8  | static_context_initial_hidden_lstm | GatedResidualNetwork            | 1.1 K \n",
      "9  | static_context_initial_cell_lstm   | GatedResidualNetwork            | 1.1 K \n",
      "10 | static_context_enrichment          | GatedResidualNetwork            | 1.1 K \n",
      "11 | lstm_encoder                       | LSTM                            | 2.2 K \n",
      "12 | lstm_decoder                       | LSTM                            | 2.2 K \n",
      "13 | post_lstm_gate_encoder             | GatedLinearUnit                 | 544   \n",
      "14 | post_lstm_add_norm_encoder         | AddNorm                         | 32    \n",
      "15 | static_enrichment                  | GatedResidualNetwork            | 1.4 K \n",
      "16 | multihead_attn                     | InterpretableMultiHeadAttention | 808   \n",
      "17 | post_attn_gate_norm                | GateAddNorm                     | 576   \n",
      "18 | pos_wise_ff                        | GatedResidualNetwork            | 1.1 K \n",
      "19 | pre_output_gate_norm               | GateAddNorm                     | 576   \n",
      "20 | output_layer                       | Linear                          | 119   \n",
      "----------------------------------------------------------------------------------------\n",
      "29.9 K    Trainable params\n",
      "0         Non-trainable params\n",
      "29.9 K    Total params\n",
      "0.120     Total estimated model params size (MB)\n"
     ]
    },
    {
     "data": {
      "application/vnd.jupyter.widget-view+json": {
       "model_id": "014acef7f4554e7eb599e23a362e7491",
       "version_major": 2,
       "version_minor": 0
      },
      "text/plain": [
       "Sanity Checking: |          | 0/? [00:00<?, ?it/s]"
      ]
     },
     "metadata": {},
     "output_type": "display_data"
    },
    {
     "name": "stderr",
     "output_type": "stream",
     "text": [
      "/Users/maxi/Documents/GitHub/OpenMeter_Analysis/Venv_OpenMeter/lib/python3.11/site-packages/lightning/pytorch/trainer/connectors/data_connector.py:436: Consider setting `persistent_workers=True` in 'val_dataloader' to speed up the dataloader worker initialization.\n",
      "/Users/maxi/Documents/GitHub/OpenMeter_Analysis/Venv_OpenMeter/lib/python3.11/site-packages/lightning/fabric/__init__.py:40: pkg_resources is deprecated as an API. See https://setuptools.pypa.io/en/latest/pkg_resources.html. The pkg_resources package is slated for removal as early as 2025-11-30. Refrain from using this package or pin to Setuptools<81.\n",
      "/Users/maxi/Documents/GitHub/OpenMeter_Analysis/Venv_OpenMeter/lib/python3.11/site-packages/lightning/fabric/__init__.py:40: pkg_resources is deprecated as an API. See https://setuptools.pypa.io/en/latest/pkg_resources.html. The pkg_resources package is slated for removal as early as 2025-11-30. Refrain from using this package or pin to Setuptools<81.\n",
      "/Users/maxi/Documents/GitHub/OpenMeter_Analysis/Venv_OpenMeter/lib/python3.11/site-packages/lightning/fabric/__init__.py:40: pkg_resources is deprecated as an API. See https://setuptools.pypa.io/en/latest/pkg_resources.html. The pkg_resources package is slated for removal as early as 2025-11-30. Refrain from using this package or pin to Setuptools<81.\n",
      "/Users/maxi/Documents/GitHub/OpenMeter_Analysis/Venv_OpenMeter/lib/python3.11/site-packages/lightning/fabric/__init__.py:40: pkg_resources is deprecated as an API. See https://setuptools.pypa.io/en/latest/pkg_resources.html. The pkg_resources package is slated for removal as early as 2025-11-30. Refrain from using this package or pin to Setuptools<81.\n",
      "/Users/maxi/Documents/GitHub/OpenMeter_Analysis/Venv_OpenMeter/lib/python3.11/site-packages/lightning/fabric/__init__.py:40: pkg_resources is deprecated as an API. See https://setuptools.pypa.io/en/latest/pkg_resources.html. The pkg_resources package is slated for removal as early as 2025-11-30. Refrain from using this package or pin to Setuptools<81.\n",
      "/Users/maxi/Documents/GitHub/OpenMeter_Analysis/Venv_OpenMeter/lib/python3.11/site-packages/lightning/fabric/__init__.py:40: pkg_resources is deprecated as an API. See https://setuptools.pypa.io/en/latest/pkg_resources.html. The pkg_resources package is slated for removal as early as 2025-11-30. Refrain from using this package or pin to Setuptools<81.\n",
      "/Users/maxi/Documents/GitHub/OpenMeter_Analysis/Venv_OpenMeter/lib/python3.11/site-packages/lightning/fabric/__init__.py:40: pkg_resources is deprecated as an API. See https://setuptools.pypa.io/en/latest/pkg_resources.html. The pkg_resources package is slated for removal as early as 2025-11-30. Refrain from using this package or pin to Setuptools<81.\n",
      "/Users/maxi/Documents/GitHub/OpenMeter_Analysis/Venv_OpenMeter/lib/python3.11/site-packages/lightning/fabric/__init__.py:40: pkg_resources is deprecated as an API. See https://setuptools.pypa.io/en/latest/pkg_resources.html. The pkg_resources package is slated for removal as early as 2025-11-30. Refrain from using this package or pin to Setuptools<81.\n",
      "/Users/maxi/Documents/GitHub/OpenMeter_Analysis/Venv_OpenMeter/lib/python3.11/site-packages/lightning/fabric/__init__.py:40: pkg_resources is deprecated as an API. See https://setuptools.pypa.io/en/latest/pkg_resources.html. The pkg_resources package is slated for removal as early as 2025-11-30. Refrain from using this package or pin to Setuptools<81.\n",
      "/Users/maxi/Documents/GitHub/OpenMeter_Analysis/Venv_OpenMeter/lib/python3.11/site-packages/lightning/fabric/__init__.py:40: pkg_resources is deprecated as an API. See https://setuptools.pypa.io/en/latest/pkg_resources.html. The pkg_resources package is slated for removal as early as 2025-11-30. Refrain from using this package or pin to Setuptools<81.\n",
      "/Users/maxi/Documents/GitHub/OpenMeter_Analysis/Venv_OpenMeter/lib/python3.11/site-packages/lightning/pytorch/trainer/connectors/data_connector.py:436: Consider setting `persistent_workers=True` in 'train_dataloader' to speed up the dataloader worker initialization.\n",
      "/Users/maxi/Documents/GitHub/OpenMeter_Analysis/Venv_OpenMeter/lib/python3.11/site-packages/lightning/fabric/__init__.py:40: pkg_resources is deprecated as an API. See https://setuptools.pypa.io/en/latest/pkg_resources.html. The pkg_resources package is slated for removal as early as 2025-11-30. Refrain from using this package or pin to Setuptools<81.\n",
      "/Users/maxi/Documents/GitHub/OpenMeter_Analysis/Venv_OpenMeter/lib/python3.11/site-packages/lightning/fabric/__init__.py:40: pkg_resources is deprecated as an API. See https://setuptools.pypa.io/en/latest/pkg_resources.html. The pkg_resources package is slated for removal as early as 2025-11-30. Refrain from using this package or pin to Setuptools<81.\n",
      "/Users/maxi/Documents/GitHub/OpenMeter_Analysis/Venv_OpenMeter/lib/python3.11/site-packages/lightning/fabric/__init__.py:40: pkg_resources is deprecated as an API. See https://setuptools.pypa.io/en/latest/pkg_resources.html. The pkg_resources package is slated for removal as early as 2025-11-30. Refrain from using this package or pin to Setuptools<81.\n",
      "/Users/maxi/Documents/GitHub/OpenMeter_Analysis/Venv_OpenMeter/lib/python3.11/site-packages/lightning/fabric/__init__.py:40: pkg_resources is deprecated as an API. See https://setuptools.pypa.io/en/latest/pkg_resources.html. The pkg_resources package is slated for removal as early as 2025-11-30. Refrain from using this package or pin to Setuptools<81.\n",
      "/Users/maxi/Documents/GitHub/OpenMeter_Analysis/Venv_OpenMeter/lib/python3.11/site-packages/lightning/fabric/__init__.py:40: pkg_resources is deprecated as an API. See https://setuptools.pypa.io/en/latest/pkg_resources.html. The pkg_resources package is slated for removal as early as 2025-11-30. Refrain from using this package or pin to Setuptools<81.\n",
      "/Users/maxi/Documents/GitHub/OpenMeter_Analysis/Venv_OpenMeter/lib/python3.11/site-packages/lightning/fabric/__init__.py:40: pkg_resources is deprecated as an API. See https://setuptools.pypa.io/en/latest/pkg_resources.html. The pkg_resources package is slated for removal as early as 2025-11-30. Refrain from using this package or pin to Setuptools<81.\n",
      "/Users/maxi/Documents/GitHub/OpenMeter_Analysis/Venv_OpenMeter/lib/python3.11/site-packages/lightning/fabric/__init__.py:40: pkg_resources is deprecated as an API. See https://setuptools.pypa.io/en/latest/pkg_resources.html. The pkg_resources package is slated for removal as early as 2025-11-30. Refrain from using this package or pin to Setuptools<81.\n",
      "/Users/maxi/Documents/GitHub/OpenMeter_Analysis/Venv_OpenMeter/lib/python3.11/site-packages/lightning/fabric/__init__.py:40: pkg_resources is deprecated as an API. See https://setuptools.pypa.io/en/latest/pkg_resources.html. The pkg_resources package is slated for removal as early as 2025-11-30. Refrain from using this package or pin to Setuptools<81.\n",
      "/Users/maxi/Documents/GitHub/OpenMeter_Analysis/Venv_OpenMeter/lib/python3.11/site-packages/lightning/fabric/__init__.py:40: pkg_resources is deprecated as an API. See https://setuptools.pypa.io/en/latest/pkg_resources.html. The pkg_resources package is slated for removal as early as 2025-11-30. Refrain from using this package or pin to Setuptools<81.\n",
      "/Users/maxi/Documents/GitHub/OpenMeter_Analysis/Venv_OpenMeter/lib/python3.11/site-packages/lightning/fabric/__init__.py:40: pkg_resources is deprecated as an API. See https://setuptools.pypa.io/en/latest/pkg_resources.html. The pkg_resources package is slated for removal as early as 2025-11-30. Refrain from using this package or pin to Setuptools<81.\n"
     ]
    },
    {
     "data": {
      "application/vnd.jupyter.widget-view+json": {
       "model_id": "bbb82a03cd5c48e787c0d2a84a52280f",
       "version_major": 2,
       "version_minor": 0
      },
      "text/plain": [
       "Training: |          | 0/? [00:00<?, ?it/s]"
      ]
     },
     "metadata": {},
     "output_type": "display_data"
    }
   ],
   "source": [
    "tft = TemporalFusionTransformer.from_dataset(\n",
    "    training,\n",
    "    hidden_size             = 16,\n",
    "    attention_head_size     = 2,\n",
    "    hidden_continuous_size  = 8,\n",
    "    dropout                 = 0.2,\n",
    "    learning_rate           = 1e-3,\n",
    "    loss                    = QuantileLoss(),\n",
    ")\n",
    "\n",
    "early_stop = EarlyStopping(monitor=\"val_loss\", patience=3, mode=\"min\", verbose=True)\n",
    "logger     = CSVLogger(\"lightning_logs\", name=\"TFT-Projekt\")\n",
    "\n",
    "trainer = Trainer(\n",
    "    max_epochs        = 30,\n",
    "    accelerator       = \"mps\",\n",
    "    devices           = \"auto\",\n",
    "    precision         = 32,\n",
    "    gradient_clip_val = 0.1,\n",
    "    callbacks         = [early_stop, LearningRateMonitor(\"epoch\")],\n",
    "    logger            = logger,\n",
    ")\n",
    "\n",
    "trainer.fit(tft, train_dataloaders=train_dl, val_dataloaders=val_dl)"
   ]
  },
  {
   "cell_type": "code",
   "execution_count": null,
   "id": "b228ae92",
   "metadata": {},
   "outputs": [],
   "source": [
    "# ──────────────────────────────────────────────────────────────────────────────\n",
    "# 5) Test-Evaluation\n",
    "# ──────────────────────────────────────────────────────────────────────────────\n",
    "pred, idx = tft.predict(test_dl, mode=\"prediction\", return_index=True)\n",
    "y_true    = test.iloc[idx][\"Messwert\"].to_numpy()\n",
    "\n",
    "print(\"MAE :\", mean_absolute_error(y_true, pred))\n",
    "print(\"RMSE:\", mean_squared_error(y_true, pred, squared=False))\n",
    "\n"
   ]
  },
  {
   "cell_type": "code",
   "execution_count": null,
   "id": "e1c45501",
   "metadata": {},
   "outputs": [],
   "source": [
    "# ──────────────────────────────────────────────────────────────────────────────\n",
    "# 6) Checkpoint speichern\n",
    "# ──────────────────────────────────────────────────────────────────────────────\n",
    "os.makedirs(\"/content\", exist_ok=True)\n",
    "trainer.save_checkpoint(\"/content/tft_stromverbrauch.ckpt\")\n",
    "print(\"Checkpoint gespeichert → /content/tft_stromverbrauch.ckpt\")"
   ]
  },
  {
   "cell_type": "markdown",
   "id": "86145989",
   "metadata": {},
   "source": []
  },
  {
   "cell_type": "code",
   "execution_count": null,
   "id": "4af5fc46",
   "metadata": {},
   "outputs": [],
   "source": [
    "-----------\n"
   ]
  },
  {
   "cell_type": "code",
   "execution_count": null,
   "id": "5ddd9841",
   "metadata": {},
   "outputs": [],
   "source": [
    "import pandas as pd, torch\n",
    "\n",
    "from lightning.pytorch.loggers import CSVLogger\n",
    "from pytorch_forecasting import TimeSeriesDataSet, TemporalFusionTransformer, QuantileLoss\n",
    "from pytorch_forecasting.data import GroupNormalizer\n",
    "from lightning.pytorch import Trainer, seed_everything\n",
    "from lightning.pytorch.callbacks import EarlyStopping, LearningRateMonitor\n",
    "from sklearn.metrics import mean_absolute_error, mean_squared_error"
   ]
  },
  {
   "cell_type": "code",
   "execution_count": null,
   "id": "fe73b6c2",
   "metadata": {},
   "outputs": [],
   "source": [
    "DATA_PATH = \"/Users/maxi/Desktop/train_data.csv\"\n",
    "TEST_PATH = \"/Users/maxi/Desktop/test_data.csv\"\n",
    "\n",
    "train = pd.read_csv(DATA_PATH, nrows=50_000, parse_dates=[\"Zeitstempel\"])\n",
    "test  = pd.read_csv(TEST_PATH,  nrows=10_000, parse_dates=[\"Zeitstempel\"])"
   ]
  },
  {
   "cell_type": "code",
   "execution_count": null,
   "id": "71a9f1c1",
   "metadata": {},
   "outputs": [],
   "source": [
    "print(train)\n",
    "print(test)"
   ]
  },
  {
   "cell_type": "code",
   "execution_count": null,
   "id": "bffef9e0",
   "metadata": {},
   "outputs": [],
   "source": [
    "# --- Daten zusammenführen -------------------------------------------------\n",
    "df = pd.concat([train.assign(split=\"train\"), test.assign(split=\"test\")], ignore_index=True)\n",
    "df[\"meter_id\"] = df[\"location_id\"]\n",
    "\n",
    "# --- Zeitindex ------------------------------------------------------------\n",
    "origin = df[\"Zeitstempel\"].min()\n",
    "df[\"time_idx\"] = ((df[\"Zeitstempel\"] - origin).dt.total_seconds() // 3600).astype(int)\n",
    "\n",
    "# --- Zeitliche Kategorien -------------------------------------------------\n",
    "df[\"month\"]   = df[\"Zeitstempel\"].dt.month.astype(str)\n",
    "df[\"weekday\"] = df[\"Zeitstempel\"].dt.weekday.astype(str)\n",
    "df[\"hour\"]    = df[\"Zeitstempel\"].dt.hour.astype(str)\n",
    "\n",
    "# --- Feiertage / Ferien ---------------------------------------------------\n",
    "df[\"is_holiday\"] = df[\"Ferientyp\"].notna().astype(str)\n",
    "df[\"Ferientyp\"]  = df[\"Ferientyp\"].fillna(\"None\").astype(str)\n",
    "\n",
    "# --- Sonstige Kategoricals -----------------------------------------------\n",
    "df[\"post_code\"] = df[\"post_code\"].astype(str)\n",
    "df[\"city\"]      = df[\"city\"].astype(str)\n",
    "\n",
    "# --- Gemeinsame Kategorie-Encodierung -------------------------------------\n",
    "cat_cols = [\"city\", \"post_code\", \"Ferientyp\", \"month\", \"weekday\", \"hour\", \"is_holiday\"]\n",
    "for col in cat_cols:\n",
    "    df[col] = pd.Categorical(df[col])     # gemeinsamer Category-Pool\n",
    "\n",
    "# ── Feature-Listen anpassen ─────────────────────────────────────────────\n",
    "static_reals = [\n",
    "    \"area\", \"Bruttoverdienst\", \"Durchschnittsalter der Bevölkerung\",\n",
    "    \"Erwerbstätige\", \"Kaufkraft\", \"Medianeinkommen\",\n",
    "    \"Neubauwohnungen in Ein- und Zweifamilienhäusern\",\n",
    "    \"Neubauwohnungen je Einwohner\", \"Schuldnerquote\",\n",
    "    \"Siedlungsdichte in km²\"\n",
    "]\n",
    "\n",
    "static_categoricals            = [\"city\", \"post_code\"]\n",
    "time_varying_known_categoricals = [\"is_holiday\", \"Ferientyp\"]        # ← Monat etc. raus\n",
    "time_varying_known_reals        = [\"time_idx\", \"month\", \"weekday\", \"hour\",\n",
    "                                   \"cloud_cover_total\", \"humidity\"]\n",
    "\n",
    "# ▸ alle Reals ohne Lücken -------------------------------------------------\n",
    "fill_cols = [\"cloud_cover_total\", \"humidity\"] + static_reals\n",
    "\n",
    "for col in fill_cols:\n",
    "    if col in df.columns:\n",
    "        df[col] = df[col].fillna(method=\"ffill\").fillna(method=\"bfill\")  # 1. vor/zurück füllen\n",
    "        df[col] = df[col].fillna(df[col].median())                       # 2. falls Brand-Lücken\n",
    "\n",
    "# --- Zurück in Train/Test split ------------------------------------------\n",
    "train = df[df[\"split\"] == \"train\"].drop(columns=\"split\")\n",
    "test  = df[df[\"split\"] == \"test\"].drop(columns=\"split\")\n"
   ]
  },
  {
   "cell_type": "code",
   "execution_count": null,
   "id": "52ecba65",
   "metadata": {},
   "outputs": [],
   "source": [
    "ENC_LEN, PRED_LEN = 72, 24\n",
    "training = TimeSeriesDataSet(\n",
    "    train,\n",
    "    time_idx=\"time_idx\",\n",
    "    target=\"Messwert\",\n",
    "    group_ids=[\"meter_id\"],\n",
    "    static_categoricals           = static_categoricals,\n",
    "    static_reals                  = static_reals,\n",
    "    time_varying_known_categoricals = time_varying_known_categoricals,\n",
    "    time_varying_known_reals        = time_varying_known_reals,\n",
    "    time_varying_unknown_reals      = [\"Messwert\"],\n",
    "    max_encoder_length=ENC_LEN,\n",
    "    max_prediction_length=PRED_LEN,\n",
    "    target_normalizer=GroupNormalizer(groups=[\"meter_id\"]),\n",
    "    allow_missing_timesteps=True,\n",
    ")\n",
    "\n",
    "test_ds = TimeSeriesDataSet.from_dataset(\n",
    "    training, test, stop_randomization=True\n",
    ")\n",
    "\n",
    "batch = 128\n",
    "train_dl = training.to_dataloader(train=True, batch_size=batch, num_workers=12, shuffle=True)\n",
    "test_dl = test_ds.to_dataloader(train=False, batch_size=batch, num_workers=12)"
   ]
  },
  {
   "cell_type": "code",
   "execution_count": null,
   "id": "26801854",
   "metadata": {},
   "outputs": [],
   "source": [
    "from lightning.pytorch.callbacks import EarlyStopping, LearningRateMonitor\n",
    "\n",
    "seed_everything(42)\n",
    "\n",
    "tft = TemporalFusionTransformer.from_dataset(\n",
    "    training,\n",
    "    hidden_size=16,\n",
    "    attention_head_size=2,\n",
    "    hidden_continuous_size=8,\n",
    "    dropout=0.2,\n",
    "    learning_rate=0.001,\n",
    "    loss=QuantileLoss(),\n",
    ")\n",
    "\n",
    "early_stop = EarlyStopping(\n",
    "    monitor=\"val_loss\",   # <- überwachte Metrik\n",
    "    patience=3,\n",
    "    mode=\"min\",\n",
    "    verbose=True,\n",
    ")\n",
    "\n",
    "# Logger erzeugen\n",
    "logger = CSVLogger(\"lightning_logs\", name=\"TFT-Projekt\")\n",
    " \n",
    "trainer = Trainer(\n",
    "    max_epochs=30,\n",
    "    accelerator=\"auto\",\n",
    "    devices=1,\n",
    "    precision=32,\n",
    "    gradient_clip_val=0.1,\n",
    "    callbacks=[early_stop, LearningRateMonitor(\"epoch\")],\n",
    "    logger=logger,  # <--- Logging aktiv!\n",
    ")\n",
    " \n",
    "trainer.fit(tft, train_dataloaders=train_dl, val_dataloaders=val_dl)"
   ]
  },
  {
   "cell_type": "code",
   "execution_count": null,
   "id": "7313dadb",
   "metadata": {},
   "outputs": [],
   "source": [
    "test_ds  = TimeSeriesDataSet.from_dataset(training, test, stop_randomization=True)\n",
    "test_dl  = test_ds.to_dataloader(train=False, batch_size=batch)\n",
    "pred, ix = tft.predict(test_dl, mode=\"prediction\", return_index=True)\n",
    "y_true   = test.iloc[ix][\"Messwert\"].to_numpy()\n",
    "\n",
    "print(\"MAE :\", mean_absolute_error(y_true, pred))\n",
    "print(\"RMSE:\", mean_squared_error(y_true, pred, squared=False))"
   ]
  },
  {
   "cell_type": "code",
   "execution_count": null,
   "id": "022c2560",
   "metadata": {},
   "outputs": [],
   "source": [
    "trainer.save_checkpoint(\"/content/tft_stromverbrauch.ckpt\")\n",
    "print(\"Checkpoint gespeichert.\")"
   ]
  }
 ],
 "metadata": {
  "kernelspec": {
   "display_name": "Python 3",
   "language": "python",
   "name": "python3"
  },
  "language_info": {
   "codemirror_mode": {
    "name": "ipython",
    "version": 3
   },
   "file_extension": ".py",
   "mimetype": "text/x-python",
   "name": "python",
   "nbconvert_exporter": "python",
   "pygments_lexer": "ipython3",
   "version": "3.11.8"
  }
 },
 "nbformat": 4,
 "nbformat_minor": 5
}
