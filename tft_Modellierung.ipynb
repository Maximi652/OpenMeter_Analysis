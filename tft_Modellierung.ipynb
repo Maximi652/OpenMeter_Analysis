{
 "cells": [
  {
   "cell_type": "code",
   "execution_count": null,
   "id": "5ddd9841",
   "metadata": {},
   "outputs": [
    {
     "name": "stderr",
     "output_type": "stream",
     "text": [
      "/Users/maxi/Documents/GitHub/OpenMeter_Analysis/Venv_OpenMeter/lib/python3.11/site-packages/lightning/fabric/__init__.py:40: pkg_resources is deprecated as an API. See https://setuptools.pypa.io/en/latest/pkg_resources.html. The pkg_resources package is slated for removal as early as 2025-11-30. Refrain from using this package or pin to Setuptools<81.\n"
     ]
    }
   ],
   "source": [
    "import pandas as pd\n",
    "from pytorch_forecasting import TimeSeriesDataSet\n",
    "from pytorch_forecasting.data import GroupNormalizer\n",
    "from pytorch_forecasting import TemporalFusionTransformer, QuantileLoss\n",
    "from lightning.pytorch import Trainer, seed_everything\n",
    "from lightning.pytorch.callbacks import EarlyStopping, LearningRateMonitor"
   ]
  },
  {
   "cell_type": "code",
   "execution_count": 2,
   "id": "fe73b6c2",
   "metadata": {},
   "outputs": [],
   "source": [
    "DATA_PATH   = \"/Users/maxi/Desktop/train_data.csv\"\n",
    "TEST_PATH   = \"/Users/maxi/Desktop/test_data.csv\"\n",
    "DATE_COL    = \"Zeitstempel\"\n",
    "TARGET_COL  = \"Messwert\"\n",
    "ID_COL      = \"location_id\""
   ]
  },
  {
   "cell_type": "code",
   "execution_count": 3,
   "id": "d7a479ba",
   "metadata": {},
   "outputs": [
    {
     "name": "stderr",
     "output_type": "stream",
     "text": [
      "/var/folders/c0/bb24fmsx45vgrsz0nl893g940000gn/T/ipykernel_59829/754474484.py:1: DtypeWarning: Columns (19,20,39) have mixed types. Specify dtype option on import or set low_memory=False.\n",
      "  df_train = pd.read_csv(DATA_PATH, parse_dates=[DATE_COL])\n",
      "/var/folders/c0/bb24fmsx45vgrsz0nl893g940000gn/T/ipykernel_59829/754474484.py:2: DtypeWarning: Columns (19,20,39) have mixed types. Specify dtype option on import or set low_memory=False.\n",
      "  df_test  = pd.read_csv(TEST_PATH,  parse_dates=[DATE_COL])\n"
     ]
    }
   ],
   "source": [
    "df_train = pd.read_csv(DATA_PATH, parse_dates=[DATE_COL])\n",
    "df_test  = pd.read_csv(TEST_PATH,  parse_dates=[DATE_COL])\n",
    "df = pd.concat([df_train.assign(split=\"train\"), df_test.assign(split=\"test\")])\n",
    "df.drop(columns=[\"Unnamed: 0\"], inplace=True)"
   ]
  },
  {
   "cell_type": "code",
   "execution_count": 4,
   "id": "b29c472c",
   "metadata": {},
   "outputs": [],
   "source": [
    "# Grundspalten\n",
    "df[\"meter_id\"] = df[ID_COL]\n",
    "origin = df[DATE_COL].min()\n",
    "df[\"time_idx\"] = ((df[DATE_COL] - origin).dt.total_seconds() // 3600).astype(int)"
   ]
  },
  {
   "cell_type": "code",
   "execution_count": 5,
   "id": "150fd605",
   "metadata": {},
   "outputs": [],
   "source": [
    "# Zeitfeatures\n",
    "df[\"month\"]   = df[DATE_COL].dt.month\n",
    "df[\"weekday\"] = df[DATE_COL].dt.weekday\n",
    "df[\"hour\"]    = df[DATE_COL].dt.hour"
   ]
  },
  {
   "cell_type": "code",
   "execution_count": 6,
   "id": "966cd5ed",
   "metadata": {},
   "outputs": [],
   "source": [
    "# Feiertage\n",
    "df[\"is_holiday\"] = df[\"Ferientyp\"].notna().astype(int)\n",
    "df[\"Ferientyp\"]  = df[\"Ferientyp\"].fillna(\"None\")"
   ]
  },
  {
   "cell_type": "code",
   "execution_count": 7,
   "id": "01247eee",
   "metadata": {},
   "outputs": [],
   "source": [
    "# Wetter-Interpolation (falls vorhanden)\n",
    "for col in [\"cloud_cover_total\", \"humidity\"]:\n",
    "    if col in df.columns:\n",
    "        df[col] = df[col].interpolate(limit_direction=\"both\")"
   ]
  },
  {
   "cell_type": "code",
   "execution_count": 8,
   "id": "90f19f5a",
   "metadata": {},
   "outputs": [],
   "source": [
    "# Statische Reals\n",
    "static_reals = [\n",
    "    \"area\", \"Bruttoverdienst\", \"Durchschnittsalter der Bevölkerung\",\n",
    "    \"Erwerbstätige\", \"Kaufkraft\", \"Medianeinkommen\",\n",
    "    \"Neubauwohnungen in Ein- und Zweifamilienhäusern\",\n",
    "    \"Neubauwohnungen je Einwohner\", \"Schuldnerquote\",\n",
    "    \"Siedlungsdichte in km²\"\n",
    "]\n",
    "df[static_reals] = df[static_reals].fillna(df[static_reals].median())"
   ]
  },
  {
   "cell_type": "code",
   "execution_count": 9,
   "id": "cefbde75",
   "metadata": {},
   "outputs": [],
   "source": [
    "# nach dem Zusammenführen von df_train/df_test einfach ergänzen:\n",
    "df[\"post_code\"] = df[\"post_code\"].astype(str)\n",
    "\n",
    "# und bei der Typ-Schleife post_code mit aufnehmen:\n",
    "for col in [\"city\", \"post_code\", \"Ferientyp\", \"month\", \"weekday\", \"hour\", \"is_holiday\"]:\n",
    "    df[col] = df[col].astype(str)\n",
    "\n",
    "train = df[df[\"split\"] == \"train\"].drop(columns=[\"split\"])\n",
    "test  = df[df[\"split\"] == \"test\"].drop(columns=[\"split\"])"
   ]
  },
  {
   "cell_type": "code",
   "execution_count": 10,
   "id": "4908d70c",
   "metadata": {},
   "outputs": [],
   "source": [
    "# Feature-Listen\n",
    "static_categoricals = [\"city\", \"post_code\"]\n",
    "time_varying_known_categoricals = [\"month\", \"weekday\", \"hour\", \"is_holiday\", \"Ferientyp\"]\n",
    "time_varying_known_reals = [\"time_idx\", \"cloud_cover_total\", \"humidity\"]"
   ]
  },
  {
   "cell_type": "code",
   "execution_count": 11,
   "id": "3c7fa5d3",
   "metadata": {},
   "outputs": [],
   "source": [
    "# TFT-Dataset\n",
    "max_encoder_length    = 24 * 7   # 7 Tage\n",
    "max_prediction_length = 24       # 24 h\n",
    "\n",
    "training = TimeSeriesDataSet(\n",
    "    train,\n",
    "    time_idx=\"time_idx\",\n",
    "    target=TARGET_COL,\n",
    "    group_ids=[\"meter_id\"],\n",
    "    static_categoricals           = static_categoricals,\n",
    "    static_reals                  = static_reals,\n",
    "    time_varying_known_categoricals = time_varying_known_categoricals,\n",
    "    time_varying_known_reals        = time_varying_known_reals,\n",
    "    time_varying_unknown_reals      = [TARGET_COL],\n",
    "    max_encoder_length   = max_encoder_length,\n",
    "    max_prediction_length= max_prediction_length,\n",
    "    target_normalizer    = GroupNormalizer(groups=[\"meter_id\"]),\n",
    "    add_relative_time_idx=True,\n",
    "    add_target_scales    = True,\n",
    "    add_encoder_length   = True,\n",
    "    allow_missing_timesteps=True,          \n",
    ")"
   ]
  },
  {
   "cell_type": "code",
   "execution_count": null,
   "id": "22c06204",
   "metadata": {},
   "outputs": [
    {
     "name": "stderr",
     "output_type": "stream",
     "text": [
      "Seed set to 42\n",
      "/Users/maxi/Documents/GitHub/OpenMeter_Analysis/Venv_OpenMeter/lib/python3.11/site-packages/lightning/pytorch/utilities/parsing.py:198: Attribute 'loss' is an instance of `nn.Module` and is already saved during checkpointing. It is recommended to ignore them using `self.save_hyperparameters(ignore=['loss'])`.\n",
      "/Users/maxi/Documents/GitHub/OpenMeter_Analysis/Venv_OpenMeter/lib/python3.11/site-packages/lightning/pytorch/utilities/parsing.py:198: Attribute 'logging_metrics' is an instance of `nn.Module` and is already saved during checkpointing. It is recommended to ignore them using `self.save_hyperparameters(ignore=['logging_metrics'])`.\n",
      "GPU available: True (mps), used: True\n",
      "TPU available: False, using: 0 TPU cores\n",
      "IPU available: False, using: 0 IPUs\n",
      "HPU available: False, using: 0 HPUs\n",
      "/Users/maxi/Documents/GitHub/OpenMeter_Analysis/Venv_OpenMeter/lib/python3.11/site-packages/lightning/pytorch/trainer/connectors/logger_connector/logger_connector.py:67: Starting from v1.9.0, `tensorboardX` has been removed as a dependency of the `lightning.pytorch` package, due to potential conflicts with other packages in the ML ecosystem. For this reason, `logger=True` will use `CSVLogger` as the default logger, unless the `tensorboard` or `tensorboardX` packages are found. Please `pip install lightning[extra]` or one of them to enable TensorBoard support by default\n",
      "Missing logger folder: /Users/maxi/Documents/GitHub/OpenMeter_Analysis/lightning_logs\n",
      "\n",
      "   | Name                               | Type                            | Params\n",
      "----------------------------------------------------------------------------------------\n",
      "0  | loss                               | QuantileLoss                    | 0     \n",
      "1  | logging_metrics                    | ModuleList                      | 0     \n",
      "2  | input_embeddings                   | MultiEmbedding                  | 771   \n",
      "3  | prescalers                         | ModuleDict                      | 576   \n",
      "4  | static_variable_selection          | VariableSelectionNetwork        | 28.1 K\n",
      "5  | encoder_variable_selection         | VariableSelectionNetwork        | 11.4 K\n",
      "6  | decoder_variable_selection         | VariableSelectionNetwork        | 9.2 K \n",
      "7  | static_context_variable_selection  | GatedResidualNetwork            | 4.3 K \n",
      "8  | static_context_initial_hidden_lstm | GatedResidualNetwork            | 4.3 K \n",
      "9  | static_context_initial_cell_lstm   | GatedResidualNetwork            | 4.3 K \n",
      "10 | static_context_enrichment          | GatedResidualNetwork            | 4.3 K \n",
      "11 | lstm_encoder                       | LSTM                            | 8.4 K \n",
      "12 | lstm_decoder                       | LSTM                            | 8.4 K \n",
      "13 | post_lstm_gate_encoder             | GatedLinearUnit                 | 2.1 K \n",
      "14 | post_lstm_add_norm_encoder         | AddNorm                         | 64    \n",
      "15 | static_enrichment                  | GatedResidualNetwork            | 5.3 K \n",
      "16 | multihead_attn                     | InterpretableMultiHeadAttention | 2.6 K \n",
      "17 | post_attn_gate_norm                | GateAddNorm                     | 2.2 K \n",
      "18 | pos_wise_ff                        | GatedResidualNetwork            | 4.3 K \n",
      "19 | pre_output_gate_norm               | GateAddNorm                     | 2.2 K \n",
      "20 | output_layer                       | Linear                          | 231   \n",
      "----------------------------------------------------------------------------------------\n",
      "102 K     Trainable params\n",
      "0         Non-trainable params\n",
      "102 K     Total params\n",
      "0.409     Total estimated model params size (MB)\n"
     ]
    },
    {
     "data": {
      "application/vnd.jupyter.widget-view+json": {
       "model_id": "586fd356905149329e3d1bf37f73a2b4",
       "version_major": 2,
       "version_minor": 0
      },
      "text/plain": [
       "Sanity Checking: |          | 0/? [00:00<?, ?it/s]"
      ]
     },
     "metadata": {},
     "output_type": "display_data"
    },
    {
     "name": "stderr",
     "output_type": "stream",
     "text": [
      "/Users/maxi/Documents/GitHub/OpenMeter_Analysis/Venv_OpenMeter/lib/python3.11/site-packages/lightning/pytorch/trainer/connectors/data_connector.py:436: Consider setting `persistent_workers=True` in 'val_dataloader' to speed up the dataloader worker initialization.\n",
      "/Users/maxi/Documents/GitHub/OpenMeter_Analysis/Venv_OpenMeter/lib/python3.11/site-packages/lightning/fabric/__init__.py:40: pkg_resources is deprecated as an API. See https://setuptools.pypa.io/en/latest/pkg_resources.html. The pkg_resources package is slated for removal as early as 2025-11-30. Refrain from using this package or pin to Setuptools<81.\n",
      "/Users/maxi/Documents/GitHub/OpenMeter_Analysis/Venv_OpenMeter/lib/python3.11/site-packages/lightning/fabric/__init__.py:40: pkg_resources is deprecated as an API. See https://setuptools.pypa.io/en/latest/pkg_resources.html. The pkg_resources package is slated for removal as early as 2025-11-30. Refrain from using this package or pin to Setuptools<81.\n",
      "/Users/maxi/Documents/GitHub/OpenMeter_Analysis/Venv_OpenMeter/lib/python3.11/site-packages/lightning/fabric/__init__.py:40: pkg_resources is deprecated as an API. See https://setuptools.pypa.io/en/latest/pkg_resources.html. The pkg_resources package is slated for removal as early as 2025-11-30. Refrain from using this package or pin to Setuptools<81.\n",
      "/Users/maxi/Documents/GitHub/OpenMeter_Analysis/Venv_OpenMeter/lib/python3.11/site-packages/lightning/fabric/__init__.py:40: pkg_resources is deprecated as an API. See https://setuptools.pypa.io/en/latest/pkg_resources.html. The pkg_resources package is slated for removal as early as 2025-11-30. Refrain from using this package or pin to Setuptools<81.\n",
      "/Users/maxi/Documents/GitHub/OpenMeter_Analysis/Venv_OpenMeter/lib/python3.11/site-packages/lightning/pytorch/trainer/connectors/data_connector.py:436: Consider setting `persistent_workers=True` in 'train_dataloader' to speed up the dataloader worker initialization.\n",
      "/Users/maxi/Documents/GitHub/OpenMeter_Analysis/Venv_OpenMeter/lib/python3.11/site-packages/lightning/fabric/__init__.py:40: pkg_resources is deprecated as an API. See https://setuptools.pypa.io/en/latest/pkg_resources.html. The pkg_resources package is slated for removal as early as 2025-11-30. Refrain from using this package or pin to Setuptools<81.\n",
      "/Users/maxi/Documents/GitHub/OpenMeter_Analysis/Venv_OpenMeter/lib/python3.11/site-packages/lightning/fabric/__init__.py:40: pkg_resources is deprecated as an API. See https://setuptools.pypa.io/en/latest/pkg_resources.html. The pkg_resources package is slated for removal as early as 2025-11-30. Refrain from using this package or pin to Setuptools<81.\n",
      "/Users/maxi/Documents/GitHub/OpenMeter_Analysis/Venv_OpenMeter/lib/python3.11/site-packages/lightning/fabric/__init__.py:40: pkg_resources is deprecated as an API. See https://setuptools.pypa.io/en/latest/pkg_resources.html. The pkg_resources package is slated for removal as early as 2025-11-30. Refrain from using this package or pin to Setuptools<81.\n",
      "/Users/maxi/Documents/GitHub/OpenMeter_Analysis/Venv_OpenMeter/lib/python3.11/site-packages/lightning/fabric/__init__.py:40: pkg_resources is deprecated as an API. See https://setuptools.pypa.io/en/latest/pkg_resources.html. The pkg_resources package is slated for removal as early as 2025-11-30. Refrain from using this package or pin to Setuptools<81.\n"
     ]
    },
    {
     "data": {
      "application/vnd.jupyter.widget-view+json": {
       "model_id": "3757002e678e4b33966e3fb0ce0a0029",
       "version_major": 2,
       "version_minor": 0
      },
      "text/plain": [
       "Training: |          | 0/? [00:00<?, ?it/s]"
      ]
     },
     "metadata": {},
     "output_type": "display_data"
    }
   ],
   "source": [
    "batch_size = 128\n",
    "train_loader = training.to_dataloader(train=True, batch_size=batch_size, num_workers=4)\n",
    "\n",
    "training_cutoff = train[\"time_idx\"].max() - max_prediction_length\n",
    "val_dataset = TimeSeriesDataSet.from_dataset(\n",
    "    training, train, min_prediction_idx=training_cutoff + 1, stop_randomization=True\n",
    ")\n",
    "val_loader = val_dataset.to_dataloader(train=False, batch_size=batch_size, num_workers=4)\n",
    "\n",
    "# --------------------------------------------------\n",
    "# 4) Modell, Trainer, Training\n",
    "# --------------------------------------------------\n",
    "seed_everything(42, workers=True)\n",
    "\n",
    "tft = TemporalFusionTransformer.from_dataset(\n",
    "    training,\n",
    "    learning_rate=1e-3,\n",
    "    hidden_size=32,\n",
    "    attention_head_size=4,\n",
    "    dropout=0.1,\n",
    "    hidden_continuous_size=16,\n",
    "    loss=QuantileLoss(),\n",
    ")\n",
    "\n",
    "trainer = Trainer(\n",
    "    max_epochs=30,\n",
    "    accelerator=\"auto\",\n",
    "    devices=\"auto\",\n",
    "    gradient_clip_val=0.1,\n",
    "    callbacks=[\n",
    "        EarlyStopping(monitor=\"val_loss\", patience=6, mode=\"min\"),\n",
    "        LearningRateMonitor(\"epoch\"),\n",
    "    ],\n",
    ")\n",
    "trainer.fit(\n",
    "    tft,\n",
    "    train_dataloaders=train_loader,   # ← statt positional\n",
    "    val_dataloaders=val_loader        # ← statt positional\n",
    ")\n",
    "\n",
    "# --------------------------------------------------\n",
    "# 5) Test-Evaluation\n",
    "# --------------------------------------------------\n",
    "test_dataset = TimeSeriesDataSet.from_dataset(\n",
    "    training, test, stop_randomization=True\n",
    ")\n",
    "test_loader = test_dataset.to_dataloader(train=False, batch_size=batch_size, num_workers=4)\n",
    "\n",
    "pred, idx = tft.predict(test_loader, mode=\"prediction\", return_index=True)\n",
    "y_true = test.iloc[idx][TARGET_COL].values\n",
    "\n",
    "print(\"MAE :\", mean_absolute_error(y_true, pred))\n",
    "print(\"RMSE:\", mean_squared_error(y_true, pred, squared=False))\n",
    "\n",
    "# --------------------------------------------------\n",
    "# 6) Checkpoint speichern\n",
    "# --------------------------------------------------\n",
    "trainer.save_checkpoint(\"tft_stromverbrauch.ckpt\")"
   ]
  }
 ],
 "metadata": {
  "kernelspec": {
   "display_name": "Python 3",
   "language": "python",
   "name": "python3"
  },
  "language_info": {
   "codemirror_mode": {
    "name": "ipython",
    "version": 3
   },
   "file_extension": ".py",
   "mimetype": "text/x-python",
   "name": "python",
   "nbconvert_exporter": "python",
   "pygments_lexer": "ipython3",
   "version": "3.11.8"
  }
 },
 "nbformat": 4,
 "nbformat_minor": 5
}
